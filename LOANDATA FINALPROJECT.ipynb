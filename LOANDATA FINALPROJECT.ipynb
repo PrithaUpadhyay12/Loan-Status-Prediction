{
 "cells": [
  {
   "cell_type": "markdown",
   "id": "91c4c606",
   "metadata": {},
   "source": [
    "# GOAL OF THE PROJECT "
   ]
  },
  {
   "cell_type": "markdown",
   "id": "d28dc278",
   "metadata": {},
   "source": [
    "White House Finance Company deals in all home loans. They have presence across all urban, semi urban and rural areas. Customer\n",
    "first apply for home loan after that company validates the customer eligibility for loan. The company wants to automate\n",
    "the loan eligibiity process based on customer details provided while filling the application form.\n",
    "So I have attempted to prepare a project where the model can predict the loan approval and hence cana accelerate \n",
    "the decision making process  for determining whether an applicant is eligible for a loan or not. "
   ]
  },
  {
   "cell_type": "markdown",
   "id": "59a4e0ce",
   "metadata": {},
   "source": [
    "# The machine learning models used in this project are--"
   ]
  },
  {
   "cell_type": "code",
   "execution_count": 1,
   "id": "a3c645a0",
   "metadata": {},
   "outputs": [],
   "source": [
    "#---Logistic Regression\n",
    "#---RandomForest Classifier\n",
    "#---Support Vector Classifier\n",
    "#---RandomForestClassifier (RandomizedSearchCV)\n",
    "#---RandomForestClassifier (GridSearchCV)\n",
    "#---Decision Tree(GridSearchCV)\n",
    "#---Logistic Regression(GridSearchCV)\n",
    "#---Support Vector Classifier (GridSearchCV)"
   ]
  },
  {
   "cell_type": "markdown",
   "id": "323d82be",
   "metadata": {},
   "source": [
    "# DataSet Description"
   ]
  },
  {
   "cell_type": "code",
   "execution_count": null,
   "id": "e3e83385",
   "metadata": {},
   "outputs": [],
   "source": [
    "#LoanID - Loan Reference ID (Unique)\n",
    "#Gender - Applicant Gender (M ale or Female)\n",
    "#Married - Applicant marital status  (Married or not married )\n",
    "#Dependents - Number of family members - 0; 1; 2; 3+\n",
    "#Education - Applicant educational qualification (graduate or not graduate)\n",
    "#Self_Employed - Applicant employment status\n",
    "#ApplicantIncome- Applicant's monthly salary/income\n",
    "#CoapplicantIncome - Additional applicant's monthly salary\n",
    "#LoanAmount - Loan amount taken \n",
    "#Loan_Amount_Term - The loan's repayment period (in days)\n",
    "#Credit_History - Records of previous credit history (0: bad credit history, 1: good credit history)\n",
    "#Property_Area - The location of the property (Rural/Semiurban/Urban)\n",
    "#Loan_Status -- Status of loan whether approved or not"
   ]
  },
  {
   "cell_type": "code",
   "execution_count": null,
   "id": "a9047fe8",
   "metadata": {},
   "outputs": [],
   "source": []
  },
  {
   "cell_type": "code",
   "execution_count": null,
   "id": "3feb1891",
   "metadata": {},
   "outputs": [],
   "source": []
  },
  {
   "cell_type": "code",
   "execution_count": null,
   "id": "a69b9a7d",
   "metadata": {},
   "outputs": [],
   "source": []
  },
  {
   "cell_type": "code",
   "execution_count": 1,
   "id": "32cba2c6",
   "metadata": {},
   "outputs": [],
   "source": [
    "import numpy as np\n",
    "import pandas as pd\n",
    "import matplotlib.pyplot as plt\n",
    "import seaborn as sns"
   ]
  },
  {
   "cell_type": "code",
   "execution_count": 2,
   "id": "f4333a24",
   "metadata": {},
   "outputs": [],
   "source": [
    "loan_train = pd.read_csv('loan_train_data.csv')\n",
    "loan_test = pd.read_csv(\"loan_test_data.csv\")"
   ]
  },
  {
   "cell_type": "code",
   "execution_count": 3,
   "id": "4794cc29",
   "metadata": {},
   "outputs": [],
   "source": [
    "loan_dataset = pd.concat((loan_train, loan_test)) #concating train and test data"
   ]
  },
  {
   "cell_type": "code",
   "execution_count": 4,
   "id": "5d18f571",
   "metadata": {},
   "outputs": [
    {
     "data": {
      "text/html": [
       "<div>\n",
       "<style scoped>\n",
       "    .dataframe tbody tr th:only-of-type {\n",
       "        vertical-align: middle;\n",
       "    }\n",
       "\n",
       "    .dataframe tbody tr th {\n",
       "        vertical-align: top;\n",
       "    }\n",
       "\n",
       "    .dataframe thead th {\n",
       "        text-align: right;\n",
       "    }\n",
       "</style>\n",
       "<table border=\"1\" class=\"dataframe\">\n",
       "  <thead>\n",
       "    <tr style=\"text-align: right;\">\n",
       "      <th></th>\n",
       "      <th>Loan_ID</th>\n",
       "      <th>Gender</th>\n",
       "      <th>Married</th>\n",
       "      <th>Dependents</th>\n",
       "      <th>Education</th>\n",
       "      <th>Self_Employed</th>\n",
       "      <th>ApplicantIncome</th>\n",
       "      <th>CoapplicantIncome</th>\n",
       "      <th>LoanAmount</th>\n",
       "      <th>Loan_Amount_Term</th>\n",
       "      <th>Credit_History</th>\n",
       "      <th>Property_Area</th>\n",
       "      <th>Loan_Status</th>\n",
       "    </tr>\n",
       "  </thead>\n",
       "  <tbody>\n",
       "    <tr>\n",
       "      <th>0</th>\n",
       "      <td>LP001002</td>\n",
       "      <td>Male</td>\n",
       "      <td>No</td>\n",
       "      <td>0</td>\n",
       "      <td>Graduate</td>\n",
       "      <td>No</td>\n",
       "      <td>5849</td>\n",
       "      <td>0.0</td>\n",
       "      <td>NaN</td>\n",
       "      <td>360.0</td>\n",
       "      <td>1.0</td>\n",
       "      <td>Urban</td>\n",
       "      <td>Y</td>\n",
       "    </tr>\n",
       "    <tr>\n",
       "      <th>1</th>\n",
       "      <td>LP001003</td>\n",
       "      <td>Male</td>\n",
       "      <td>Yes</td>\n",
       "      <td>1</td>\n",
       "      <td>Graduate</td>\n",
       "      <td>No</td>\n",
       "      <td>4583</td>\n",
       "      <td>1508.0</td>\n",
       "      <td>128.0</td>\n",
       "      <td>360.0</td>\n",
       "      <td>1.0</td>\n",
       "      <td>Rural</td>\n",
       "      <td>N</td>\n",
       "    </tr>\n",
       "    <tr>\n",
       "      <th>2</th>\n",
       "      <td>LP001005</td>\n",
       "      <td>Male</td>\n",
       "      <td>Yes</td>\n",
       "      <td>0</td>\n",
       "      <td>Graduate</td>\n",
       "      <td>Yes</td>\n",
       "      <td>3000</td>\n",
       "      <td>0.0</td>\n",
       "      <td>66.0</td>\n",
       "      <td>360.0</td>\n",
       "      <td>1.0</td>\n",
       "      <td>Urban</td>\n",
       "      <td>Y</td>\n",
       "    </tr>\n",
       "    <tr>\n",
       "      <th>3</th>\n",
       "      <td>LP001006</td>\n",
       "      <td>Male</td>\n",
       "      <td>Yes</td>\n",
       "      <td>0</td>\n",
       "      <td>Not Graduate</td>\n",
       "      <td>No</td>\n",
       "      <td>2583</td>\n",
       "      <td>2358.0</td>\n",
       "      <td>120.0</td>\n",
       "      <td>360.0</td>\n",
       "      <td>1.0</td>\n",
       "      <td>Urban</td>\n",
       "      <td>Y</td>\n",
       "    </tr>\n",
       "    <tr>\n",
       "      <th>4</th>\n",
       "      <td>LP001008</td>\n",
       "      <td>Male</td>\n",
       "      <td>No</td>\n",
       "      <td>0</td>\n",
       "      <td>Graduate</td>\n",
       "      <td>No</td>\n",
       "      <td>6000</td>\n",
       "      <td>0.0</td>\n",
       "      <td>141.0</td>\n",
       "      <td>360.0</td>\n",
       "      <td>1.0</td>\n",
       "      <td>Urban</td>\n",
       "      <td>Y</td>\n",
       "    </tr>\n",
       "  </tbody>\n",
       "</table>\n",
       "</div>"
      ],
      "text/plain": [
       "    Loan_ID Gender Married Dependents     Education Self_Employed  \\\n",
       "0  LP001002   Male      No          0      Graduate            No   \n",
       "1  LP001003   Male     Yes          1      Graduate            No   \n",
       "2  LP001005   Male     Yes          0      Graduate           Yes   \n",
       "3  LP001006   Male     Yes          0  Not Graduate            No   \n",
       "4  LP001008   Male      No          0      Graduate            No   \n",
       "\n",
       "   ApplicantIncome  CoapplicantIncome  LoanAmount  Loan_Amount_Term  \\\n",
       "0             5849                0.0         NaN             360.0   \n",
       "1             4583             1508.0       128.0             360.0   \n",
       "2             3000                0.0        66.0             360.0   \n",
       "3             2583             2358.0       120.0             360.0   \n",
       "4             6000                0.0       141.0             360.0   \n",
       "\n",
       "   Credit_History Property_Area Loan_Status  \n",
       "0             1.0         Urban           Y  \n",
       "1             1.0         Rural           N  \n",
       "2             1.0         Urban           Y  \n",
       "3             1.0         Urban           Y  \n",
       "4             1.0         Urban           Y  "
      ]
     },
     "execution_count": 4,
     "metadata": {},
     "output_type": "execute_result"
    }
   ],
   "source": [
    "loan_dataset.head()"
   ]
  },
  {
   "cell_type": "code",
   "execution_count": 5,
   "id": "9e1908d3",
   "metadata": {},
   "outputs": [],
   "source": [
    "loan_dataset=loan_dataset.drop(columns= ['Loan_ID'], axis= 1)"
   ]
  },
  {
   "cell_type": "code",
   "execution_count": 6,
   "id": "255a5cad",
   "metadata": {},
   "outputs": [
    {
     "name": "stdout",
     "output_type": "stream",
     "text": [
      "<class 'pandas.core.frame.DataFrame'>\n",
      "Int64Index: 981 entries, 0 to 366\n",
      "Data columns (total 12 columns):\n",
      " #   Column             Non-Null Count  Dtype  \n",
      "---  ------             --------------  -----  \n",
      " 0   Gender             957 non-null    object \n",
      " 1   Married            978 non-null    object \n",
      " 2   Dependents         956 non-null    object \n",
      " 3   Education          981 non-null    object \n",
      " 4   Self_Employed      926 non-null    object \n",
      " 5   ApplicantIncome    981 non-null    int64  \n",
      " 6   CoapplicantIncome  981 non-null    float64\n",
      " 7   LoanAmount         954 non-null    float64\n",
      " 8   Loan_Amount_Term   961 non-null    float64\n",
      " 9   Credit_History     902 non-null    float64\n",
      " 10  Property_Area      981 non-null    object \n",
      " 11  Loan_Status        614 non-null    object \n",
      "dtypes: float64(4), int64(1), object(7)\n",
      "memory usage: 99.6+ KB\n"
     ]
    }
   ],
   "source": [
    "loan_dataset.info()"
   ]
  },
  {
   "cell_type": "code",
   "execution_count": 7,
   "id": "a0f583df",
   "metadata": {},
   "outputs": [
    {
     "data": {
      "text/html": [
       "<div>\n",
       "<style scoped>\n",
       "    .dataframe tbody tr th:only-of-type {\n",
       "        vertical-align: middle;\n",
       "    }\n",
       "\n",
       "    .dataframe tbody tr th {\n",
       "        vertical-align: top;\n",
       "    }\n",
       "\n",
       "    .dataframe thead th {\n",
       "        text-align: right;\n",
       "    }\n",
       "</style>\n",
       "<table border=\"1\" class=\"dataframe\">\n",
       "  <thead>\n",
       "    <tr style=\"text-align: right;\">\n",
       "      <th></th>\n",
       "      <th>ApplicantIncome</th>\n",
       "      <th>CoapplicantIncome</th>\n",
       "      <th>LoanAmount</th>\n",
       "      <th>Loan_Amount_Term</th>\n",
       "      <th>Credit_History</th>\n",
       "    </tr>\n",
       "  </thead>\n",
       "  <tbody>\n",
       "    <tr>\n",
       "      <th>count</th>\n",
       "      <td>981.000000</td>\n",
       "      <td>981.000000</td>\n",
       "      <td>954.000000</td>\n",
       "      <td>961.000000</td>\n",
       "      <td>902.000000</td>\n",
       "    </tr>\n",
       "    <tr>\n",
       "      <th>mean</th>\n",
       "      <td>5179.795107</td>\n",
       "      <td>1601.916330</td>\n",
       "      <td>142.511530</td>\n",
       "      <td>342.201873</td>\n",
       "      <td>0.835920</td>\n",
       "    </tr>\n",
       "    <tr>\n",
       "      <th>std</th>\n",
       "      <td>5695.104533</td>\n",
       "      <td>2718.772806</td>\n",
       "      <td>77.421743</td>\n",
       "      <td>65.100602</td>\n",
       "      <td>0.370553</td>\n",
       "    </tr>\n",
       "    <tr>\n",
       "      <th>min</th>\n",
       "      <td>0.000000</td>\n",
       "      <td>0.000000</td>\n",
       "      <td>9.000000</td>\n",
       "      <td>6.000000</td>\n",
       "      <td>0.000000</td>\n",
       "    </tr>\n",
       "    <tr>\n",
       "      <th>25%</th>\n",
       "      <td>2875.000000</td>\n",
       "      <td>0.000000</td>\n",
       "      <td>100.000000</td>\n",
       "      <td>360.000000</td>\n",
       "      <td>1.000000</td>\n",
       "    </tr>\n",
       "    <tr>\n",
       "      <th>50%</th>\n",
       "      <td>3800.000000</td>\n",
       "      <td>1110.000000</td>\n",
       "      <td>126.000000</td>\n",
       "      <td>360.000000</td>\n",
       "      <td>1.000000</td>\n",
       "    </tr>\n",
       "    <tr>\n",
       "      <th>75%</th>\n",
       "      <td>5516.000000</td>\n",
       "      <td>2365.000000</td>\n",
       "      <td>162.000000</td>\n",
       "      <td>360.000000</td>\n",
       "      <td>1.000000</td>\n",
       "    </tr>\n",
       "    <tr>\n",
       "      <th>max</th>\n",
       "      <td>81000.000000</td>\n",
       "      <td>41667.000000</td>\n",
       "      <td>700.000000</td>\n",
       "      <td>480.000000</td>\n",
       "      <td>1.000000</td>\n",
       "    </tr>\n",
       "  </tbody>\n",
       "</table>\n",
       "</div>"
      ],
      "text/plain": [
       "       ApplicantIncome  CoapplicantIncome  LoanAmount  Loan_Amount_Term  \\\n",
       "count       981.000000         981.000000  954.000000        961.000000   \n",
       "mean       5179.795107        1601.916330  142.511530        342.201873   \n",
       "std        5695.104533        2718.772806   77.421743         65.100602   \n",
       "min           0.000000           0.000000    9.000000          6.000000   \n",
       "25%        2875.000000           0.000000  100.000000        360.000000   \n",
       "50%        3800.000000        1110.000000  126.000000        360.000000   \n",
       "75%        5516.000000        2365.000000  162.000000        360.000000   \n",
       "max       81000.000000       41667.000000  700.000000        480.000000   \n",
       "\n",
       "       Credit_History  \n",
       "count      902.000000  \n",
       "mean         0.835920  \n",
       "std          0.370553  \n",
       "min          0.000000  \n",
       "25%          1.000000  \n",
       "50%          1.000000  \n",
       "75%          1.000000  \n",
       "max          1.000000  "
      ]
     },
     "execution_count": 7,
     "metadata": {},
     "output_type": "execute_result"
    }
   ],
   "source": [
    "loan_dataset.describe() #statistical representaton of numerical columns"
   ]
  },
  {
   "cell_type": "code",
   "execution_count": 325,
   "id": "0898b497",
   "metadata": {},
   "outputs": [
    {
     "data": {
      "text/plain": [
       "Gender                2.446483\n",
       "Married               0.305810\n",
       "Dependents            2.548420\n",
       "Education             0.000000\n",
       "Self_Employed         5.606524\n",
       "ApplicantIncome       0.000000\n",
       "CoapplicantIncome     0.000000\n",
       "LoanAmount            2.752294\n",
       "Loan_Amount_Term      2.038736\n",
       "Credit_History        8.053007\n",
       "Property_Area         0.000000\n",
       "Loan_Status          37.410805\n",
       "dtype: float64"
      ]
     },
     "execution_count": 325,
     "metadata": {},
     "output_type": "execute_result"
    }
   ],
   "source": [
    "loan_dataset.isnull().mean()*100 #finding the missing values "
   ]
  },
  {
   "cell_type": "code",
   "execution_count": 326,
   "id": "4dd9e476",
   "metadata": {},
   "outputs": [
    {
     "data": {
      "text/plain": [
       "<AxesSubplot:>"
      ]
     },
     "execution_count": 326,
     "metadata": {},
     "output_type": "execute_result"
    },
    {
     "data": {
      "image/png": "[encoded data removed]",
      "text/plain": [
       "<Figure size 720x360 with 2 Axes>"
      ]
     },
     "metadata": {
      "needs_background": "light"
     },
     "output_type": "display_data"
    }
   ],
   "source": [
    "plt.figure(figsize = (10,5))\n",
    "sns.heatmap(loan_dataset.isnull())"
   ]
  },
  {
   "cell_type": "markdown",
   "id": "0901696b",
   "metadata": {},
   "source": [
    "# EXPLORATORY DATA ANALYSIS"
   ]
  },
  {
   "cell_type": "markdown",
   "id": "29f6cd54",
   "metadata": {},
   "source": [
    "# Univariate Analysis------Categorical Variables"
   ]
  },
  {
   "cell_type": "code",
   "execution_count": 327,
   "id": "7272b1c9",
   "metadata": {},
   "outputs": [],
   "source": [
    "cat_vars = [var for var in loan_dataset if loan_dataset[var].dtype == 'object']"
   ]
  },
  {
   "cell_type": "code",
   "execution_count": 328,
   "id": "1ca89ec6",
   "metadata": {},
   "outputs": [
    {
     "data": {
      "text/plain": [
       "['Gender',\n",
       " 'Married',\n",
       " 'Dependents',\n",
       " 'Education',\n",
       " 'Self_Employed',\n",
       " 'Property_Area',\n",
       " 'Loan_Status']"
      ]
     },
     "execution_count": 328,
     "metadata": {},
     "output_type": "execute_result"
    }
   ],
   "source": [
    "cat_vars"
   ]
  },
  {
   "cell_type": "code",
   "execution_count": 329,
   "id": "09dd6560",
   "metadata": {},
   "outputs": [
    {
     "data": {
      "text/plain": [
       "<AxesSubplot:xlabel='Property_Area', ylabel='count'>"
      ]
     },
     "execution_count": 329,
     "metadata": {},
     "output_type": "execute_result"
    },
    {
     "data": {
      "image/png": "[encoded data removed]",
      "text/plain": [
       "<Figure size 1296x864 with 6 Axes>"
      ]
     },
     "metadata": {
      "needs_background": "light"
     },
     "output_type": "display_data"
    }
   ],
   "source": [
    "plt.figure(figsize = (18, 12))\n",
    "plt.subplot(3,3,1)\n",
    "sns.countplot(x = 'Gender', data = loan_dataset , palette = 'Paired' )\n",
    "\n",
    "plt.subplot(3,3,2)\n",
    "sns.countplot(x = 'Married', data = loan_dataset , palette = 'Paired')\n",
    "\n",
    "plt.subplot(3,3,3)\n",
    "sns.countplot(x = 'Dependents', data = loan_dataset , palette = 'Paired')\n",
    " \n",
    "plt.subplot(3,3,4)\n",
    "sns.countplot(x = 'Education', data = loan_dataset , palette = 'Paired')\n",
    "\n",
    "plt.subplot(3,3,5)\n",
    "sns.countplot(x = 'Self_Employed', data = loan_dataset , palette = 'Paired')\n",
    " \n",
    "plt.subplot(3,3,6)\n",
    "sns.countplot(x = 'Property_Area', data = loan_dataset , palette = 'Paired')"
   ]
  },
  {
   "cell_type": "code",
   "execution_count": 330,
   "id": "c9e9fe0d",
   "metadata": {},
   "outputs": [],
   "source": [
    "#From the above we can conclude that:\n",
    "\n",
    "#Gender - The number of male applicants are much more higher than female applicants.\n",
    "#Married - The number of married applicants are much more higher than not married applicants.\n",
    "#Dependents - The number of applicants is higher in case of those people who have no dependents.\n",
    "#Self-Employed - Loan applicants in case of not self employed are higher that those who are self-employed.\n",
    "#Eductaion - Graduate aplicants are higher than non-graduate applicants.\n",
    "#Property- Area - Urban under property area got the maximum loan approval."
   ]
  },
  {
   "cell_type": "code",
   "execution_count": 331,
   "id": "f38cd4b8",
   "metadata": {},
   "outputs": [
    {
     "data": {
      "text/plain": [
       "<AxesSubplot:ylabel='Loan_Status'>"
      ]
     },
     "execution_count": 331,
     "metadata": {},
     "output_type": "execute_result"
    },
    {
     "data": {
      "image/png": "[encoded data removed]",
      "text/plain": [
       "<Figure size 576x360 with 1 Axes>"
      ]
     },
     "metadata": {},
     "output_type": "display_data"
    }
   ],
   "source": [
    "plt.figure(figsize = (8,5))\n",
    "loan_dataset['Loan_Status'].value_counts().plot(kind = 'pie', autopct = '%.2f')"
   ]
  },
  {
   "cell_type": "markdown",
   "id": "d794450d",
   "metadata": {},
   "source": [
    "From the above we can conclude that the number of loan approved is much more higher than not approved. And also the data is imbalanced."
   ]
  },
  {
   "cell_type": "markdown",
   "id": "e4aa7cfa",
   "metadata": {},
   "source": [
    "Numerical Variables"
   ]
  },
  {
   "cell_type": "code",
   "execution_count": 332,
   "id": "5bbe7706",
   "metadata": {},
   "outputs": [],
   "source": [
    "num_vars = loan_dataset.select_dtypes(include = ['int64', 'float64'])"
   ]
  },
  {
   "cell_type": "code",
   "execution_count": 333,
   "id": "34e5e52a",
   "metadata": {},
   "outputs": [
    {
     "data": {
      "text/plain": [
       "Index(['ApplicantIncome', 'CoapplicantIncome', 'LoanAmount',\n",
       "       'Loan_Amount_Term', 'Credit_History'],\n",
       "      dtype='object')"
      ]
     },
     "execution_count": 333,
     "metadata": {},
     "output_type": "execute_result"
    }
   ],
   "source": [
    "num_vars.columns"
   ]
  },
  {
   "cell_type": "code",
   "execution_count": 334,
   "id": "6c46aae7",
   "metadata": {},
   "outputs": [
    {
     "data": {
      "image/png": "[encoded data removed]",
      "text/plain": [
       "<Figure size 1080x720 with 5 Axes>"
      ]
     },
     "metadata": {
      "needs_background": "light"
     },
     "output_type": "display_data"
    }
   ],
   "source": [
    "plt.figure(figsize = (15,10))\n",
    "\n",
    "plt.subplot(3,2,1)\n",
    "plt.hist(loan_dataset['CoapplicantIncome'], color= 'green')\n",
    "plt.xlabel(\"CoapplicantIncome\")\n",
    "\n",
    "\n",
    "plt.subplot(3,2,2)\n",
    "plt.hist(loan_dataset['ApplicantIncome'], color = 'blue')\n",
    "plt.xlabel(\"ApplicantIncome\")\n",
    "\n",
    "\n",
    "\n",
    "plt.subplot(3,2,3)\n",
    "plt.hist(loan_dataset['LoanAmount'], color = 'red') \n",
    "plt.xlabel(\"LoanAmount\") \n",
    "\n",
    "\n",
    "plt.subplot(3,2,4)\n",
    "plt.hist(loan_dataset['Loan_Amount_Term'], bins = 60, color = 'yellow') \n",
    "plt.xlabel(\"Loan_Amount_Term\")\n",
    "\n",
    "\n",
    "plt.subplot(3,2,5)\n",
    "plt.hist(loan_dataset['Credit_History'], color = 'purple') \n",
    "plt.xlabel(\"Credit_History\")\n",
    "\n",
    "plt.show()"
   ]
  },
  {
   "cell_type": "markdown",
   "id": "4733047b",
   "metadata": {},
   "source": [
    "From the above we can conclude that:\n",
    "\n",
    "Applicants income, Co-applicants Income and Loan Amount are rightly skewed. 360 days loan duration is the most popular compared to the other loan term. The number of applicants that have good credit history is higher compared to applicants that have bad credit history."
   ]
  },
  {
   "cell_type": "code",
   "execution_count": 335,
   "id": "81a5df6d",
   "metadata": {},
   "outputs": [
    {
     "name": "stderr",
     "output_type": "stream",
     "text": [
      "C:\\anaconnda\\New folder\\lib\\site-packages\\seaborn\\_decorators.py:36: FutureWarning: Pass the following variable as a keyword arg: x. From version 0.12, the only valid positional argument will be `data`, and passing other arguments without an explicit keyword will result in an error or misinterpretation.\n",
      "  warnings.warn(\n",
      "C:\\anaconnda\\New folder\\lib\\site-packages\\seaborn\\_decorators.py:36: FutureWarning: Pass the following variable as a keyword arg: x. From version 0.12, the only valid positional argument will be `data`, and passing other arguments without an explicit keyword will result in an error or misinterpretation.\n",
      "  warnings.warn(\n",
      "C:\\anaconnda\\New folder\\lib\\site-packages\\seaborn\\_decorators.py:36: FutureWarning: Pass the following variable as a keyword arg: x. From version 0.12, the only valid positional argument will be `data`, and passing other arguments without an explicit keyword will result in an error or misinterpretation.\n",
      "  warnings.warn(\n",
      "C:\\anaconnda\\New folder\\lib\\site-packages\\seaborn\\_decorators.py:36: FutureWarning: Pass the following variable as a keyword arg: x. From version 0.12, the only valid positional argument will be `data`, and passing other arguments without an explicit keyword will result in an error or misinterpretation.\n",
      "  warnings.warn(\n"
     ]
    },
    {
     "data": {
      "text/plain": [
       "<AxesSubplot:xlabel='Loan_Amount_Term'>"
      ]
     },
     "execution_count": 335,
     "metadata": {},
     "output_type": "execute_result"
    },
    {
     "data": {
      "image/png": "[encoded data removed]",
      "text/plain": [
       "<Figure size 1080x720 with 4 Axes>"
      ]
     },
     "metadata": {
      "needs_background": "light"
     },
     "output_type": "display_data"
    }
   ],
   "source": [
    "plt.figure(figsize = (15,10))\n",
    "\n",
    "plt.subplot(3,2,1)\n",
    "sns.boxplot(loan_dataset['ApplicantIncome'], color = 'yellow')\n",
    "\n",
    "plt.subplot(3,2,2)\n",
    "sns.boxplot(loan_dataset['CoapplicantIncome'], color = 'blue')\n",
    "\n",
    "plt.subplot(3,2,3)\n",
    "sns.boxplot(loan_dataset['LoanAmount'], color = 'red')\n",
    "\n",
    "plt.subplot(3,2,4)\n",
    "sns.boxplot(loan_dataset['Loan_Amount_Term'], color = 'red')\n",
    "\n"
   ]
  },
  {
   "cell_type": "markdown",
   "id": "7bdb311d",
   "metadata": {},
   "source": [
    "Hence we can conclude that ApplicantIncome, CoapplicantIncome, LoanAmount, Loan_Amount_Term all have outliers"
   ]
  },
  {
   "cell_type": "markdown",
   "id": "13a678d7",
   "metadata": {},
   "source": [
    "# Bivariate Analysis/ Multivariate Analysis"
   ]
  },
  {
   "cell_type": "code",
   "execution_count": 336,
   "id": "f3e58f80",
   "metadata": {},
   "outputs": [
    {
     "data": {
      "text/plain": [
       "<AxesSubplot:xlabel='ApplicantIncome', ylabel='CoapplicantIncome'>"
      ]
     },
     "execution_count": 336,
     "metadata": {},
     "output_type": "execute_result"
    },
    {
     "data": {
      "image/png": "[encoded data removed]",
      "text/plain": [
       "<Figure size 432x288 with 1 Axes>"
      ]
     },
     "metadata": {
      "needs_background": "light"
     },
     "output_type": "display_data"
    }
   ],
   "source": [
    "sns.scatterplot(x = loan_dataset['ApplicantIncome'], y = loan_dataset['CoapplicantIncome'], hue = loan_dataset['LoanAmount'])"
   ]
  },
  {
   "cell_type": "markdown",
   "id": "72a546a9",
   "metadata": {},
   "source": [
    "From the above visualization we conclude that there is a positive relationship between ApplicantIncome, Co-ApplicantIncome and LoanAmount\n",
    "and loan amount is higher in case of applicant income"
   ]
  },
  {
   "cell_type": "code",
   "execution_count": 339,
   "id": "c040f4f6",
   "metadata": {},
   "outputs": [
    {
     "data": {
      "text/plain": [
       "<AxesSubplot:xlabel='Loan_Status', ylabel='Property_Area'>"
      ]
     },
     "execution_count": 339,
     "metadata": {},
     "output_type": "execute_result"
    },
    {
     "data": {
      "image/png": "[encoded data removed]",
      "text/plain": [
       "<Figure size 432x288 with 2 Axes>"
      ]
     },
     "metadata": {
      "needs_background": "light"
     },
     "output_type": "display_data"
    }
   ],
   "source": [
    "sns.heatmap(pd.crosstab(loan_dataset['Property_Area'], loan_dataset['Loan_Status']))"
   ]
  },
  {
   "cell_type": "markdown",
   "id": "a5cb41b0",
   "metadata": {},
   "source": [
    "Loan Approved in case of semi-urban is higher as compared to other property_areas"
   ]
  },
  {
   "cell_type": "code",
   "execution_count": 340,
   "id": "460953ad",
   "metadata": {},
   "outputs": [
    {
     "data": {
      "text/plain": [
       "<AxesSubplot:xlabel='Gender'>"
      ]
     },
     "execution_count": 340,
     "metadata": {},
     "output_type": "execute_result"
    },
    {
     "data": {
      "image/png": "[encoded data removed]",
      "text/plain": [
       "<Figure size 432x288 with 1 Axes>"
      ]
     },
     "metadata": {
      "needs_background": "light"
     },
     "output_type": "display_data"
    }
   ],
   "source": [
    "pd.crosstab(loan_dataset['Gender'],loan_dataset['Loan_Status']).plot(kind = 'bar')"
   ]
  },
  {
   "cell_type": "markdown",
   "id": "006bd2b0",
   "metadata": {},
   "source": [
    "Male got much more loan approvals than female"
   ]
  },
  {
   "cell_type": "code",
   "execution_count": 341,
   "id": "65f86894",
   "metadata": {},
   "outputs": [
    {
     "data": {
      "text/html": [
       "<div>\n",
       "<style scoped>\n",
       "    .dataframe tbody tr th:only-of-type {\n",
       "        vertical-align: middle;\n",
       "    }\n",
       "\n",
       "    .dataframe tbody tr th {\n",
       "        vertical-align: top;\n",
       "    }\n",
       "\n",
       "    .dataframe thead th {\n",
       "        text-align: right;\n",
       "    }\n",
       "</style>\n",
       "<table border=\"1\" class=\"dataframe\">\n",
       "  <thead>\n",
       "    <tr style=\"text-align: right;\">\n",
       "      <th>Loan_Status</th>\n",
       "      <th>N</th>\n",
       "      <th>Y</th>\n",
       "    </tr>\n",
       "    <tr>\n",
       "      <th>Education</th>\n",
       "      <th></th>\n",
       "      <th></th>\n",
       "    </tr>\n",
       "  </thead>\n",
       "  <tbody>\n",
       "    <tr>\n",
       "      <th>Graduate</th>\n",
       "      <td>140</td>\n",
       "      <td>340</td>\n",
       "    </tr>\n",
       "    <tr>\n",
       "      <th>Not Graduate</th>\n",
       "      <td>52</td>\n",
       "      <td>82</td>\n",
       "    </tr>\n",
       "  </tbody>\n",
       "</table>\n",
       "</div>"
      ],
      "text/plain": [
       "Loan_Status     N    Y\n",
       "Education             \n",
       "Graduate      140  340\n",
       "Not Graduate   52   82"
      ]
     },
     "execution_count": 341,
     "metadata": {},
     "output_type": "execute_result"
    }
   ],
   "source": [
    "pd.crosstab(loan_dataset['Education'], loan_dataset['Loan_Status'])"
   ]
  },
  {
   "cell_type": "markdown",
   "id": "05bf685a",
   "metadata": {},
   "source": [
    "So we can conclude that graduates have got the maximum number of loan approvals."
   ]
  },
  {
   "cell_type": "code",
   "execution_count": 344,
   "id": "a47316a3",
   "metadata": {},
   "outputs": [
    {
     "data": {
      "text/plain": [
       "<AxesSubplot:xlabel='Gender', ylabel='LoanAmount'>"
      ]
     },
     "execution_count": 344,
     "metadata": {},
     "output_type": "execute_result"
    },
    {
     "data": {
      "image/png": "[encoded data removed]",
      "text/plain": [
       "<Figure size 432x288 with 1 Axes>"
      ]
     },
     "metadata": {
      "needs_background": "light"
     },
     "output_type": "display_data"
    }
   ],
   "source": [
    "sns.boxplot(x = loan_dataset['Gender'], y= loan_dataset['LoanAmount'])"
   ]
  },
  {
   "cell_type": "markdown",
   "id": "7492c63d",
   "metadata": {},
   "source": [
    "From the above observation we can conclude that men have more outliers as compared to female"
   ]
  },
  {
   "cell_type": "code",
   "execution_count": 345,
   "id": "39e0bb03",
   "metadata": {},
   "outputs": [
    {
     "data": {
      "text/plain": [
       "<AxesSubplot:xlabel='Education'>"
      ]
     },
     "execution_count": 345,
     "metadata": {},
     "output_type": "execute_result"
    },
    {
     "data": {
      "image/png": "[encoded data removed]",
      "text/plain": [
       "<Figure size 432x288 with 1 Axes>"
      ]
     },
     "metadata": {
      "needs_background": "light"
     },
     "output_type": "display_data"
    }
   ],
   "source": [
    "(loan_dataset.groupby('Education').mean()['LoanAmount']).plot(kind= 'bar')"
   ]
  },
  {
   "cell_type": "markdown",
   "id": "5d26eb8f",
   "metadata": {},
   "source": [
    "Loan Amount in case of Graduates are much more higher than Not Graduate."
   ]
  },
  {
   "cell_type": "code",
   "execution_count": 421,
   "id": "cce9e09e",
   "metadata": {},
   "outputs": [
    {
     "data": {
      "text/plain": [
       "<AxesSubplot:xlabel='Credit_History'>"
      ]
     },
     "execution_count": 421,
     "metadata": {},
     "output_type": "execute_result"
    },
    {
     "data": {
      "image/png": "[encoded data removed]",
      "text/plain": [
       "<Figure size 432x288 with 1 Axes>"
      ]
     },
     "metadata": {
      "needs_background": "light"
     },
     "output_type": "display_data"
    }
   ],
   "source": [
    "pd.crosstab(loan_dataset['Credit_History'],loan_dataset['Loan_Status']).plot(kind = 'bar')"
   ]
  },
  {
   "cell_type": "markdown",
   "id": "d9440f7e",
   "metadata": {},
   "source": [
    "It seems people with credit history as 1 are more likely to get the loans approved"
   ]
  },
  {
   "cell_type": "code",
   "execution_count": 419,
   "id": "e4b7b1c8",
   "metadata": {},
   "outputs": [
    {
     "data": {
      "text/plain": [
       "<AxesSubplot:>"
      ]
     },
     "execution_count": 419,
     "metadata": {},
     "output_type": "execute_result"
    },
    {
     "data": {
      "image/png": "[encoded data removed]",
      "text/plain": [
       "<Figure size 432x288 with 2 Axes>"
      ]
     },
     "metadata": {
      "needs_background": "light"
     },
     "output_type": "display_data"
    }
   ],
   "source": [
    "#correlation plot\n",
    "sns.heatmap(loan_dataset.corr(), annot = True)"
   ]
  },
  {
   "cell_type": "markdown",
   "id": "e72d088b",
   "metadata": {},
   "source": [
    "# Outliers Detection"
   ]
  },
  {
   "cell_type": "code",
   "execution_count": 422,
   "id": "746ae376",
   "metadata": {},
   "outputs": [
    {
     "name": "stderr",
     "output_type": "stream",
     "text": [
      "C:\\anaconnda\\New folder\\lib\\site-packages\\seaborn\\_decorators.py:36: FutureWarning: Pass the following variable as a keyword arg: x. From version 0.12, the only valid positional argument will be `data`, and passing other arguments without an explicit keyword will result in an error or misinterpretation.\n",
      "  warnings.warn(\n",
      "C:\\anaconnda\\New folder\\lib\\site-packages\\seaborn\\_decorators.py:36: FutureWarning: Pass the following variable as a keyword arg: x. From version 0.12, the only valid positional argument will be `data`, and passing other arguments without an explicit keyword will result in an error or misinterpretation.\n",
      "  warnings.warn(\n",
      "C:\\anaconnda\\New folder\\lib\\site-packages\\seaborn\\_decorators.py:36: FutureWarning: Pass the following variable as a keyword arg: x. From version 0.12, the only valid positional argument will be `data`, and passing other arguments without an explicit keyword will result in an error or misinterpretation.\n",
      "  warnings.warn(\n",
      "C:\\anaconnda\\New folder\\lib\\site-packages\\seaborn\\_decorators.py:36: FutureWarning: Pass the following variable as a keyword arg: x. From version 0.12, the only valid positional argument will be `data`, and passing other arguments without an explicit keyword will result in an error or misinterpretation.\n",
      "  warnings.warn(\n"
     ]
    },
    {
     "data": {
      "text/plain": [
       "<AxesSubplot:xlabel='Loan_Amount_Term'>"
      ]
     },
     "execution_count": 422,
     "metadata": {},
     "output_type": "execute_result"
    },
    {
     "data": {
      "image/png": "[encoded data removed]",
      "text/plain": [
       "<Figure size 1080x720 with 4 Axes>"
      ]
     },
     "metadata": {
      "needs_background": "light"
     },
     "output_type": "display_data"
    }
   ],
   "source": [
    "plt.figure(figsize = (15,10))\n",
    "\n",
    "plt.subplot(3,2,1)\n",
    "sns.boxplot(loan_dataset['ApplicantIncome'], color = 'yellow')\n",
    "\n",
    "plt.subplot(3,2,2)\n",
    "sns.boxplot(loan_dataset['CoapplicantIncome'], color = 'blue')\n",
    "\n",
    "plt.subplot(3,2,3)\n",
    "sns.boxplot(loan_dataset['LoanAmount'], color = 'red')\n",
    "\n",
    "plt.subplot(3,2,4)\n",
    "sns.boxplot(loan_dataset['Loan_Amount_Term'], color = 'red')"
   ]
  },
  {
   "cell_type": "code",
   "execution_count": 423,
   "id": "2ef66225",
   "metadata": {},
   "outputs": [
    {
     "data": {
      "text/plain": [
       "7.086961153594506"
      ]
     },
     "execution_count": 423,
     "metadata": {},
     "output_type": "execute_result"
    },
    {
     "data": {
      "image/png": "[encoded data removed]",
      "text/plain": [
       "<Figure size 432x288 with 1 Axes>"
      ]
     },
     "metadata": {
      "needs_background": "light"
     },
     "output_type": "display_data"
    }
   ],
   "source": [
    "loan_dataset['ApplicantIncome'].plot(kind= 'kde')\n",
    "loan_dataset['ApplicantIncome'].skew()"
   ]
  },
  {
   "cell_type": "code",
   "execution_count": 424,
   "id": "fd5b1e0e",
   "metadata": {},
   "outputs": [
    {
     "data": {
      "text/plain": [
       "6.844108581480271"
      ]
     },
     "execution_count": 424,
     "metadata": {},
     "output_type": "execute_result"
    },
    {
     "data": {
      "image/png": "[encoded data removed]",
      "text/plain": [
       "<Figure size 432x288 with 1 Axes>"
      ]
     },
     "metadata": {
      "needs_background": "light"
     },
     "output_type": "display_data"
    }
   ],
   "source": [
    "loan_dataset['CoapplicantIncome'].plot(kind= 'kde')\n",
    "loan_dataset['CoapplicantIncome'].skew()"
   ]
  },
  {
   "cell_type": "code",
   "execution_count": 425,
   "id": "ded3472e",
   "metadata": {},
   "outputs": [
    {
     "data": {
      "text/plain": [
       "2.714035799071379"
      ]
     },
     "execution_count": 425,
     "metadata": {},
     "output_type": "execute_result"
    },
    {
     "data": {
      "image/png": "[encoded data removed]",
      "text/plain": [
       "<Figure size 432x288 with 1 Axes>"
      ]
     },
     "metadata": {
      "needs_background": "light"
     },
     "output_type": "display_data"
    }
   ],
   "source": [
    "loan_dataset['LoanAmount'].plot(kind= 'kde')\n",
    "loan_dataset['LoanAmount'].skew()"
   ]
  },
  {
   "cell_type": "code",
   "execution_count": 426,
   "id": "de99deb1",
   "metadata": {},
   "outputs": [
    {
     "data": {
      "text/plain": [
       "-2.4773920561371465"
      ]
     },
     "execution_count": 426,
     "metadata": {},
     "output_type": "execute_result"
    },
    {
     "data": {
      "image/png": "[encoded data removed]",
      "text/plain": [
       "<Figure size 432x288 with 1 Axes>"
      ]
     },
     "metadata": {
      "needs_background": "light"
     },
     "output_type": "display_data"
    }
   ],
   "source": [
    "loan_dataset['Loan_Amount_Term'].plot(kind= 'kde')\n",
    "loan_dataset['Loan_Amount_Term'].skew()"
   ]
  },
  {
   "cell_type": "markdown",
   "id": "45c03df2",
   "metadata": {},
   "source": [
    "# Outliers Removal"
   ]
  },
  {
   "cell_type": "code",
   "execution_count": 427,
   "id": "e101849d",
   "metadata": {},
   "outputs": [],
   "source": [
    "loan_dataset1 = loan_dataset.copy()"
   ]
  },
  {
   "cell_type": "code",
   "execution_count": 428,
   "id": "2be71ed7",
   "metadata": {},
   "outputs": [],
   "source": [
    "def iqr_capping(df, cols, factor): #factor = 1.5 iqr value\n",
    "    for col in cols:\n",
    "        q1 = df[col].quantile(0.25)\n",
    "        q3 = df[col].quantile(0.75)\n",
    "        \n",
    "        iqr = q3 - q1 \n",
    "        upper_limit = q3 + (factor*iqr)\n",
    "        lower_limit = q1 - (factor*iqr)\n",
    "        \n",
    "        df[col]=  np.where(df[col]>upper_limit, upper_limit, np.where(df[col]<lower_limit, lower_limit, df[col]))"
   ]
  },
  {
   "cell_type": "code",
   "execution_count": 429,
   "id": "070b2328",
   "metadata": {},
   "outputs": [],
   "source": [
    "features = loan_dataset1.select_dtypes(include=[\"int64\", \"float64\"])"
   ]
  },
  {
   "cell_type": "code",
   "execution_count": 430,
   "id": "95a73d21",
   "metadata": {},
   "outputs": [],
   "source": [
    "iqr_capping(loan_dataset1, features, 1.5)"
   ]
  },
  {
   "cell_type": "code",
   "execution_count": 431,
   "id": "8a63a0d4",
   "metadata": {},
   "outputs": [
    {
     "data": {
      "text/html": [
       "<div>\n",
       "<style scoped>\n",
       "    .dataframe tbody tr th:only-of-type {\n",
       "        vertical-align: middle;\n",
       "    }\n",
       "\n",
       "    .dataframe tbody tr th {\n",
       "        vertical-align: top;\n",
       "    }\n",
       "\n",
       "    .dataframe thead th {\n",
       "        text-align: right;\n",
       "    }\n",
       "</style>\n",
       "<table border=\"1\" class=\"dataframe\">\n",
       "  <thead>\n",
       "    <tr style=\"text-align: right;\">\n",
       "      <th></th>\n",
       "      <th>ApplicantIncome</th>\n",
       "      <th>CoapplicantIncome</th>\n",
       "      <th>LoanAmount</th>\n",
       "      <th>Loan_Amount_Term</th>\n",
       "      <th>Credit_History</th>\n",
       "    </tr>\n",
       "  </thead>\n",
       "  <tbody>\n",
       "    <tr>\n",
       "      <th>count</th>\n",
       "      <td>981.000000</td>\n",
       "      <td>981.000000</td>\n",
       "      <td>954.000000</td>\n",
       "      <td>961.0</td>\n",
       "      <td>902.0</td>\n",
       "    </tr>\n",
       "    <tr>\n",
       "      <th>mean</th>\n",
       "      <td>4466.308869</td>\n",
       "      <td>1423.644159</td>\n",
       "      <td>135.495807</td>\n",
       "      <td>360.0</td>\n",
       "      <td>1.0</td>\n",
       "    </tr>\n",
       "    <tr>\n",
       "      <th>std</th>\n",
       "      <td>2268.305740</td>\n",
       "      <td>1619.356444</td>\n",
       "      <td>53.201694</td>\n",
       "      <td>0.0</td>\n",
       "      <td>0.0</td>\n",
       "    </tr>\n",
       "    <tr>\n",
       "      <th>min</th>\n",
       "      <td>0.000000</td>\n",
       "      <td>0.000000</td>\n",
       "      <td>9.000000</td>\n",
       "      <td>360.0</td>\n",
       "      <td>1.0</td>\n",
       "    </tr>\n",
       "    <tr>\n",
       "      <th>25%</th>\n",
       "      <td>2875.000000</td>\n",
       "      <td>0.000000</td>\n",
       "      <td>100.000000</td>\n",
       "      <td>360.0</td>\n",
       "      <td>1.0</td>\n",
       "    </tr>\n",
       "    <tr>\n",
       "      <th>50%</th>\n",
       "      <td>3800.000000</td>\n",
       "      <td>1110.000000</td>\n",
       "      <td>126.000000</td>\n",
       "      <td>360.0</td>\n",
       "      <td>1.0</td>\n",
       "    </tr>\n",
       "    <tr>\n",
       "      <th>75%</th>\n",
       "      <td>5516.000000</td>\n",
       "      <td>2365.000000</td>\n",
       "      <td>162.000000</td>\n",
       "      <td>360.0</td>\n",
       "      <td>1.0</td>\n",
       "    </tr>\n",
       "    <tr>\n",
       "      <th>max</th>\n",
       "      <td>9477.500000</td>\n",
       "      <td>5912.500000</td>\n",
       "      <td>255.000000</td>\n",
       "      <td>360.0</td>\n",
       "      <td>1.0</td>\n",
       "    </tr>\n",
       "  </tbody>\n",
       "</table>\n",
       "</div>"
      ],
      "text/plain": [
       "       ApplicantIncome  CoapplicantIncome  LoanAmount  Loan_Amount_Term  \\\n",
       "count       981.000000         981.000000  954.000000             961.0   \n",
       "mean       4466.308869        1423.644159  135.495807             360.0   \n",
       "std        2268.305740        1619.356444   53.201694               0.0   \n",
       "min           0.000000           0.000000    9.000000             360.0   \n",
       "25%        2875.000000           0.000000  100.000000             360.0   \n",
       "50%        3800.000000        1110.000000  126.000000             360.0   \n",
       "75%        5516.000000        2365.000000  162.000000             360.0   \n",
       "max        9477.500000        5912.500000  255.000000             360.0   \n",
       "\n",
       "       Credit_History  \n",
       "count           902.0  \n",
       "mean              1.0  \n",
       "std               0.0  \n",
       "min               1.0  \n",
       "25%               1.0  \n",
       "50%               1.0  \n",
       "75%               1.0  \n",
       "max               1.0  "
      ]
     },
     "execution_count": 431,
     "metadata": {},
     "output_type": "execute_result"
    }
   ],
   "source": [
    "loan_dataset1.describe()"
   ]
  },
  {
   "cell_type": "code",
   "execution_count": 432,
   "id": "0a876b0d",
   "metadata": {},
   "outputs": [],
   "source": [
    "loan_dataset1['LoanAmount'].fillna(loan_dataset1['LoanAmount'].mean(), inplace = True) #filling the missing values with mean"
   ]
  },
  {
   "cell_type": "code",
   "execution_count": 19,
   "id": "41e3d69b",
   "metadata": {},
   "outputs": [],
   "source": [
    "loan_dataset1['Loan_Amount_Term'].fillna(loan_dataset1['Loan_Amount_Term'].mean(), inplace =  True)"
   ]
  },
  {
   "cell_type": "code",
   "execution_count": 20,
   "id": "22932c51",
   "metadata": {},
   "outputs": [],
   "source": [
    "loan_dataset1['Credit_History'].fillna(loan_dataset1['Credit_History'].mean(), inplace = True)"
   ]
  },
  {
   "cell_type": "code",
   "execution_count": 21,
   "id": "9454381a",
   "metadata": {},
   "outputs": [],
   "source": [
    "loan_dataset1['Gender'].fillna(loan_dataset1['Gender'].mode()[0], inplace = True) # filling the missing values with most frequent\n",
    "loan_dataset1['Married'].fillna(loan_dataset1['Married'].mode()[0],inplace = True)\n",
    "loan_dataset1['Dependents'].fillna(loan_dataset1['Dependents'].mode()[0],inplace = True)\n",
    "loan_dataset1['Self_Employed'].fillna(loan_dataset1['Self_Employed'].mode()[0],inplace = True)\n",
    "loan_dataset1['Loan_Status'].fillna(loan_dataset1['Loan_Status'].mode()[0],inplace = True)"
   ]
  },
  {
   "cell_type": "code",
   "execution_count": 22,
   "id": "439b6fcd",
   "metadata": {},
   "outputs": [
    {
     "data": {
      "text/plain": [
       "0"
      ]
     },
     "execution_count": 22,
     "metadata": {},
     "output_type": "execute_result"
    }
   ],
   "source": [
    "loan_dataset1.isnull().sum().sum()"
   ]
  },
  {
   "cell_type": "markdown",
   "id": "9ddfadbb",
   "metadata": {},
   "source": [
    "# SKEWNESS TRANSFORMATION"
   ]
  },
  {
   "cell_type": "code",
   "execution_count": 23,
   "id": "6dbeba63",
   "metadata": {},
   "outputs": [],
   "source": [
    "loan_dataset1['CoapplicantIncome_sqr'] = np.sqrt(loan_dataset1['CoapplicantIncome'])"
   ]
  },
  {
   "cell_type": "code",
   "execution_count": 24,
   "id": "9e7d71f1",
   "metadata": {},
   "outputs": [
    {
     "data": {
      "text/plain": [
       "0.18282095276804733"
      ]
     },
     "execution_count": 24,
     "metadata": {},
     "output_type": "execute_result"
    },
    {
     "data": {
      "image/png": "[encoded data removed]",
      "text/plain": [
       "<Figure size 432x288 with 1 Axes>"
      ]
     },
     "metadata": {
      "needs_background": "light"
     },
     "output_type": "display_data"
    }
   ],
   "source": [
    "loan_dataset1['CoapplicantIncome_sqr'].plot(kind = 'kde')\n",
    "loan_dataset1['CoapplicantIncome_sqr'].skew()"
   ]
  },
  {
   "cell_type": "code",
   "execution_count": 25,
   "id": "253ea7b5",
   "metadata": {},
   "outputs": [],
   "source": [
    "loan_dataset1['LoanAmount_sqr'] = np.sqrt(loan_dataset1['LoanAmount'])"
   ]
  },
  {
   "cell_type": "code",
   "execution_count": 26,
   "id": "bb8e0a5c",
   "metadata": {},
   "outputs": [
    {
     "name": "stdout",
     "output_type": "stream",
     "text": [
      "0.02102212028268656\n"
     ]
    },
    {
     "data": {
      "text/plain": [
       "<AxesSubplot:ylabel='Density'>"
      ]
     },
     "execution_count": 26,
     "metadata": {},
     "output_type": "execute_result"
    },
    {
     "data": {
      "image/png": "[encoded data removed]",
      "text/plain": [
       "<Figure size 432x288 with 1 Axes>"
      ]
     },
     "metadata": {
      "needs_background": "light"
     },
     "output_type": "display_data"
    }
   ],
   "source": [
    "print(loan_dataset1['LoanAmount_sqr'].skew())\n",
    "loan_dataset1['LoanAmount_sqr'].plot(kind = 'kde')"
   ]
  },
  {
   "cell_type": "code",
   "execution_count": 27,
   "id": "3cdcd8e0",
   "metadata": {},
   "outputs": [],
   "source": [
    "loan_dataset1['Loan_Amount_Term_log'] = np.log(loan_dataset1['Loan_Amount_Term'])"
   ]
  },
  {
   "cell_type": "code",
   "execution_count": 28,
   "id": "7aa01815",
   "metadata": {},
   "outputs": [
    {
     "name": "stdout",
     "output_type": "stream",
     "text": [
      "0\n"
     ]
    },
    {
     "data": {
      "text/plain": [
       "<AxesSubplot:ylabel='Frequency'>"
      ]
     },
     "execution_count": 28,
     "metadata": {},
     "output_type": "execute_result"
    },
    {
     "data": {
      "image/png": "[encoded data removed]",
      "text/plain": [
       "<Figure size 432x288 with 1 Axes>"
      ]
     },
     "metadata": {
      "needs_background": "light"
     },
     "output_type": "display_data"
    }
   ],
   "source": [
    "print(loan_dataset1['Loan_Amount_Term_log'].skew())\n",
    "loan_dataset1['Loan_Amount_Term_log'].plot(kind= 'hist')"
   ]
  },
  {
   "cell_type": "code",
   "execution_count": 29,
   "id": "49422f55",
   "metadata": {},
   "outputs": [
    {
     "name": "stdout",
     "output_type": "stream",
     "text": [
      "0\n"
     ]
    },
    {
     "data": {
      "text/plain": [
       "<AxesSubplot:ylabel='Frequency'>"
      ]
     },
     "execution_count": 29,
     "metadata": {},
     "output_type": "execute_result"
    },
    {
     "data": {
      "image/png": "[encoded data removed]",
      "text/plain": [
       "<Figure size 432x288 with 1 Axes>"
      ]
     },
     "metadata": {
      "needs_background": "light"
     },
     "output_type": "display_data"
    }
   ],
   "source": [
    "print(loan_dataset1['Credit_History'].skew())\n",
    "loan_dataset1['Credit_History'].plot(kind = 'hist')"
   ]
  },
  {
   "cell_type": "code",
   "execution_count": 30,
   "id": "60e7a979",
   "metadata": {},
   "outputs": [],
   "source": [
    "loan_dataset1['ApplicantIncome_sqr'] = np.sqrt(loan_dataset1['ApplicantIncome'])"
   ]
  },
  {
   "cell_type": "code",
   "execution_count": 31,
   "id": "caf1c3b9",
   "metadata": {},
   "outputs": [
    {
     "name": "stdout",
     "output_type": "stream",
     "text": [
      "0.3703790563986101\n"
     ]
    },
    {
     "data": {
      "text/plain": [
       "<AxesSubplot:ylabel='Density'>"
      ]
     },
     "execution_count": 31,
     "metadata": {},
     "output_type": "execute_result"
    },
    {
     "data": {
      "image/png": "[encoded data removed]",
      "text/plain": [
       "<Figure size 432x288 with 1 Axes>"
      ]
     },
     "metadata": {
      "needs_background": "light"
     },
     "output_type": "display_data"
    }
   ],
   "source": [
    "print(loan_dataset1['ApplicantIncome_sqr'].skew())\n",
    "loan_dataset1['ApplicantIncome_sqr'].plot(kind = 'kde')"
   ]
  },
  {
   "cell_type": "code",
   "execution_count": 32,
   "id": "65fd5252",
   "metadata": {},
   "outputs": [],
   "source": [
    "loan_dataset1 = loan_dataset1.drop(columns = ['ApplicantIncome', 'CoapplicantIncome', 'LoanAmount', 'Credit_History','Loan_Amount_Term'], axis=1)"
   ]
  },
  {
   "cell_type": "code",
   "execution_count": 33,
   "id": "719c956e",
   "metadata": {},
   "outputs": [
    {
     "data": {
      "text/html": [
       "<div>\n",
       "<style scoped>\n",
       "    .dataframe tbody tr th:only-of-type {\n",
       "        vertical-align: middle;\n",
       "    }\n",
       "\n",
       "    .dataframe tbody tr th {\n",
       "        vertical-align: top;\n",
       "    }\n",
       "\n",
       "    .dataframe thead th {\n",
       "        text-align: right;\n",
       "    }\n",
       "</style>\n",
       "<table border=\"1\" class=\"dataframe\">\n",
       "  <thead>\n",
       "    <tr style=\"text-align: right;\">\n",
       "      <th></th>\n",
       "      <th>CoapplicantIncome_sqr</th>\n",
       "      <th>LoanAmount_sqr</th>\n",
       "      <th>Loan_Amount_Term_log</th>\n",
       "      <th>ApplicantIncome_sqr</th>\n",
       "    </tr>\n",
       "  </thead>\n",
       "  <tbody>\n",
       "    <tr>\n",
       "      <th>count</th>\n",
       "      <td>981.000000</td>\n",
       "      <td>981.000000</td>\n",
       "      <td>9.810000e+02</td>\n",
       "      <td>981.000000</td>\n",
       "    </tr>\n",
       "    <tr>\n",
       "      <th>mean</th>\n",
       "      <td>27.266475</td>\n",
       "      <td>11.417381</td>\n",
       "      <td>5.886104e+00</td>\n",
       "      <td>64.767341</td>\n",
       "    </tr>\n",
       "    <tr>\n",
       "      <th>std</th>\n",
       "      <td>26.093630</td>\n",
       "      <td>2.268143</td>\n",
       "      <td>6.931325e-14</td>\n",
       "      <td>16.485674</td>\n",
       "    </tr>\n",
       "    <tr>\n",
       "      <th>min</th>\n",
       "      <td>0.000000</td>\n",
       "      <td>3.000000</td>\n",
       "      <td>5.886104e+00</td>\n",
       "      <td>0.000000</td>\n",
       "    </tr>\n",
       "    <tr>\n",
       "      <th>25%</th>\n",
       "      <td>0.000000</td>\n",
       "      <td>10.049876</td>\n",
       "      <td>5.886104e+00</td>\n",
       "      <td>53.619026</td>\n",
       "    </tr>\n",
       "    <tr>\n",
       "      <th>50%</th>\n",
       "      <td>33.316662</td>\n",
       "      <td>11.313708</td>\n",
       "      <td>5.886104e+00</td>\n",
       "      <td>61.644140</td>\n",
       "    </tr>\n",
       "    <tr>\n",
       "      <th>75%</th>\n",
       "      <td>48.631266</td>\n",
       "      <td>12.649111</td>\n",
       "      <td>5.886104e+00</td>\n",
       "      <td>74.269779</td>\n",
       "    </tr>\n",
       "    <tr>\n",
       "      <th>max</th>\n",
       "      <td>76.892782</td>\n",
       "      <td>15.968719</td>\n",
       "      <td>5.886104e+00</td>\n",
       "      <td>97.352452</td>\n",
       "    </tr>\n",
       "  </tbody>\n",
       "</table>\n",
       "</div>"
      ],
      "text/plain": [
       "       CoapplicantIncome_sqr  LoanAmount_sqr  Loan_Amount_Term_log  \\\n",
       "count             981.000000      981.000000          9.810000e+02   \n",
       "mean               27.266475       11.417381          5.886104e+00   \n",
       "std                26.093630        2.268143          6.931325e-14   \n",
       "min                 0.000000        3.000000          5.886104e+00   \n",
       "25%                 0.000000       10.049876          5.886104e+00   \n",
       "50%                33.316662       11.313708          5.886104e+00   \n",
       "75%                48.631266       12.649111          5.886104e+00   \n",
       "max                76.892782       15.968719          5.886104e+00   \n",
       "\n",
       "       ApplicantIncome_sqr  \n",
       "count           981.000000  \n",
       "mean             64.767341  \n",
       "std              16.485674  \n",
       "min               0.000000  \n",
       "25%              53.619026  \n",
       "50%              61.644140  \n",
       "75%              74.269779  \n",
       "max              97.352452  "
      ]
     },
     "execution_count": 33,
     "metadata": {},
     "output_type": "execute_result"
    }
   ],
   "source": [
    "loan_dataset1.describe() # outliers removed"
   ]
  },
  {
   "cell_type": "code",
   "execution_count": 34,
   "id": "9c974d0f",
   "metadata": {},
   "outputs": [
    {
     "data": {
      "text/plain": [
       "Y    789\n",
       "N    192\n",
       "Name: Loan_Status, dtype: int64"
      ]
     },
     "execution_count": 34,
     "metadata": {},
     "output_type": "execute_result"
    }
   ],
   "source": [
    "loan_dataset1['Loan_Status'].value_counts()"
   ]
  },
  {
   "cell_type": "code",
   "execution_count": 35,
   "id": "e7b14950",
   "metadata": {},
   "outputs": [
    {
     "name": "stdout",
     "output_type": "stream",
     "text": [
      "Requirement already satisfied: imblearn in c:\\anaconnda\\new folder\\lib\\site-packages (0.0)\n",
      "Requirement already satisfied: imbalanced-learn in c:\\anaconnda\\new folder\\lib\\site-packages (from imblearn) (0.9.0)\n",
      "Requirement already satisfied: threadpoolctl>=2.0.0 in c:\\anaconnda\\new folder\\lib\\site-packages (from imbalanced-learn->imblearn) (2.1.0)\n",
      "Requirement already satisfied: numpy>=1.14.6 in c:\\anaconnda\\new folder\\lib\\site-packages (from imbalanced-learn->imblearn) (1.20.1)\n",
      "Requirement already satisfied: scikit-learn>=1.0.1 in c:\\anaconnda\\new folder\\lib\\site-packages (from imbalanced-learn->imblearn) (1.0.2)\n",
      "Requirement already satisfied: joblib>=0.11 in c:\\anaconnda\\new folder\\lib\\site-packages (from imbalanced-learn->imblearn) (1.0.1)\n",
      "Requirement already satisfied: scipy>=1.1.0 in c:\\anaconnda\\new folder\\lib\\site-packages (from imbalanced-learn->imblearn) (1.6.2)\n"
     ]
    }
   ],
   "source": [
    "!pip install imblearn"
   ]
  },
  {
   "cell_type": "code",
   "execution_count": 36,
   "id": "0ffa293c",
   "metadata": {},
   "outputs": [],
   "source": [
    "X = loan_dataset1.drop(columns= ['Loan_Status'], axis=1)\n",
    "y = loan_dataset1['Loan_Status']"
   ]
  },
  {
   "cell_type": "code",
   "execution_count": 190,
   "id": "88ac28e3",
   "metadata": {},
   "outputs": [],
   "source": [
    "from sklearn.model_selection import train_test_split\n",
    "X_train, X_test, y_train,y_test = train_test_split(X,y, test_size= 0.20, random_state =0)\n"
   ]
  },
  {
   "cell_type": "code",
   "execution_count": 191,
   "id": "2b37ad18",
   "metadata": {},
   "outputs": [
    {
     "data": {
      "text/html": [
       "<div>\n",
       "<style scoped>\n",
       "    .dataframe tbody tr th:only-of-type {\n",
       "        vertical-align: middle;\n",
       "    }\n",
       "\n",
       "    .dataframe tbody tr th {\n",
       "        vertical-align: top;\n",
       "    }\n",
       "\n",
       "    .dataframe thead th {\n",
       "        text-align: right;\n",
       "    }\n",
       "</style>\n",
       "<table border=\"1\" class=\"dataframe\">\n",
       "  <thead>\n",
       "    <tr style=\"text-align: right;\">\n",
       "      <th></th>\n",
       "      <th>Gender</th>\n",
       "      <th>Married</th>\n",
       "      <th>Dependents</th>\n",
       "      <th>Education</th>\n",
       "      <th>Self_Employed</th>\n",
       "      <th>Property_Area</th>\n",
       "      <th>CoapplicantIncome_sqr</th>\n",
       "      <th>LoanAmount_sqr</th>\n",
       "      <th>Loan_Amount_Term_log</th>\n",
       "      <th>ApplicantIncome_sqr</th>\n",
       "    </tr>\n",
       "  </thead>\n",
       "  <tbody>\n",
       "    <tr>\n",
       "      <th>158</th>\n",
       "      <td>Male</td>\n",
       "      <td>No</td>\n",
       "      <td>0</td>\n",
       "      <td>Graduate</td>\n",
       "      <td>No</td>\n",
       "      <td>Rural</td>\n",
       "      <td>45.639895</td>\n",
       "      <td>10.954451</td>\n",
       "      <td>5.886104</td>\n",
       "      <td>54.589376</td>\n",
       "    </tr>\n",
       "    <tr>\n",
       "      <th>154</th>\n",
       "      <td>Male</td>\n",
       "      <td>No</td>\n",
       "      <td>0</td>\n",
       "      <td>Graduate</td>\n",
       "      <td>No</td>\n",
       "      <td>Urban</td>\n",
       "      <td>0.000000</td>\n",
       "      <td>7.071068</td>\n",
       "      <td>5.886104</td>\n",
       "      <td>57.043843</td>\n",
       "    </tr>\n",
       "    <tr>\n",
       "      <th>40</th>\n",
       "      <td>Male</td>\n",
       "      <td>No</td>\n",
       "      <td>0</td>\n",
       "      <td>Graduate</td>\n",
       "      <td>No</td>\n",
       "      <td>Urban</td>\n",
       "      <td>0.000000</td>\n",
       "      <td>8.944272</td>\n",
       "      <td>5.886104</td>\n",
       "      <td>60.000000</td>\n",
       "    </tr>\n",
       "    <tr>\n",
       "      <th>304</th>\n",
       "      <td>Male</td>\n",
       "      <td>No</td>\n",
       "      <td>0</td>\n",
       "      <td>Graduate</td>\n",
       "      <td>No</td>\n",
       "      <td>Rural</td>\n",
       "      <td>50.000000</td>\n",
       "      <td>11.832160</td>\n",
       "      <td>5.886104</td>\n",
       "      <td>63.245553</td>\n",
       "    </tr>\n",
       "    <tr>\n",
       "      <th>196</th>\n",
       "      <td>Male</td>\n",
       "      <td>Yes</td>\n",
       "      <td>1</td>\n",
       "      <td>Graduate</td>\n",
       "      <td>No</td>\n",
       "      <td>Semiurban</td>\n",
       "      <td>0.000000</td>\n",
       "      <td>10.677078</td>\n",
       "      <td>5.886104</td>\n",
       "      <td>69.253159</td>\n",
       "    </tr>\n",
       "  </tbody>\n",
       "</table>\n",
       "</div>"
      ],
      "text/plain": [
       "    Gender Married Dependents Education Self_Employed Property_Area  \\\n",
       "158   Male      No          0  Graduate            No         Rural   \n",
       "154   Male      No          0  Graduate            No         Urban   \n",
       "40    Male      No          0  Graduate            No         Urban   \n",
       "304   Male      No          0  Graduate            No         Rural   \n",
       "196   Male     Yes          1  Graduate            No     Semiurban   \n",
       "\n",
       "     CoapplicantIncome_sqr  LoanAmount_sqr  Loan_Amount_Term_log  \\\n",
       "158              45.639895       10.954451              5.886104   \n",
       "154               0.000000        7.071068              5.886104   \n",
       "40                0.000000        8.944272              5.886104   \n",
       "304              50.000000       11.832160              5.886104   \n",
       "196               0.000000       10.677078              5.886104   \n",
       "\n",
       "     ApplicantIncome_sqr  \n",
       "158            54.589376  \n",
       "154            57.043843  \n",
       "40             60.000000  \n",
       "304            63.245553  \n",
       "196            69.253159  "
      ]
     },
     "execution_count": 191,
     "metadata": {},
     "output_type": "execute_result"
    }
   ],
   "source": [
    "X_train.head()"
   ]
  },
  {
   "cell_type": "code",
   "execution_count": 192,
   "id": "a6715fee",
   "metadata": {},
   "outputs": [
    {
     "data": {
      "text/html": [
       "<div>\n",
       "<style scoped>\n",
       "    .dataframe tbody tr th:only-of-type {\n",
       "        vertical-align: middle;\n",
       "    }\n",
       "\n",
       "    .dataframe tbody tr th {\n",
       "        vertical-align: top;\n",
       "    }\n",
       "\n",
       "    .dataframe thead th {\n",
       "        text-align: right;\n",
       "    }\n",
       "</style>\n",
       "<table border=\"1\" class=\"dataframe\">\n",
       "  <thead>\n",
       "    <tr style=\"text-align: right;\">\n",
       "      <th></th>\n",
       "      <th>Gender</th>\n",
       "      <th>Married</th>\n",
       "      <th>Dependents</th>\n",
       "      <th>Education</th>\n",
       "      <th>Self_Employed</th>\n",
       "      <th>Property_Area</th>\n",
       "      <th>CoapplicantIncome_sqr</th>\n",
       "      <th>LoanAmount_sqr</th>\n",
       "      <th>Loan_Amount_Term_log</th>\n",
       "      <th>ApplicantIncome_sqr</th>\n",
       "    </tr>\n",
       "  </thead>\n",
       "  <tbody>\n",
       "    <tr>\n",
       "      <th>474</th>\n",
       "      <td>Male</td>\n",
       "      <td>No</td>\n",
       "      <td>2</td>\n",
       "      <td>Graduate</td>\n",
       "      <td>No</td>\n",
       "      <td>Rural</td>\n",
       "      <td>68.176242</td>\n",
       "      <td>12.727922</td>\n",
       "      <td>5.886104</td>\n",
       "      <td>74.377416</td>\n",
       "    </tr>\n",
       "    <tr>\n",
       "      <th>236</th>\n",
       "      <td>Male</td>\n",
       "      <td>Yes</td>\n",
       "      <td>0</td>\n",
       "      <td>Graduate</td>\n",
       "      <td>No</td>\n",
       "      <td>Urban</td>\n",
       "      <td>0.000000</td>\n",
       "      <td>15.968719</td>\n",
       "      <td>5.886104</td>\n",
       "      <td>75.802375</td>\n",
       "    </tr>\n",
       "    <tr>\n",
       "      <th>27</th>\n",
       "      <td>Male</td>\n",
       "      <td>Yes</td>\n",
       "      <td>2</td>\n",
       "      <td>Not Graduate</td>\n",
       "      <td>No</td>\n",
       "      <td>Urban</td>\n",
       "      <td>32.249031</td>\n",
       "      <td>10.488088</td>\n",
       "      <td>5.886104</td>\n",
       "      <td>65.007692</td>\n",
       "    </tr>\n",
       "    <tr>\n",
       "      <th>8</th>\n",
       "      <td>Male</td>\n",
       "      <td>Yes</td>\n",
       "      <td>2</td>\n",
       "      <td>Graduate</td>\n",
       "      <td>No</td>\n",
       "      <td>Urban</td>\n",
       "      <td>0.000000</td>\n",
       "      <td>15.968719</td>\n",
       "      <td>5.886104</td>\n",
       "      <td>97.352452</td>\n",
       "    </tr>\n",
       "    <tr>\n",
       "      <th>94</th>\n",
       "      <td>Male</td>\n",
       "      <td>Yes</td>\n",
       "      <td>1</td>\n",
       "      <td>Graduate</td>\n",
       "      <td>No</td>\n",
       "      <td>Semiurban</td>\n",
       "      <td>48.301139</td>\n",
       "      <td>11.090537</td>\n",
       "      <td>5.886104</td>\n",
       "      <td>67.889616</td>\n",
       "    </tr>\n",
       "  </tbody>\n",
       "</table>\n",
       "</div>"
      ],
      "text/plain": [
       "    Gender Married Dependents     Education Self_Employed Property_Area  \\\n",
       "474   Male      No          2      Graduate            No         Rural   \n",
       "236   Male     Yes          0      Graduate            No         Urban   \n",
       "27    Male     Yes          2  Not Graduate            No         Urban   \n",
       "8     Male     Yes          2      Graduate            No         Urban   \n",
       "94    Male     Yes          1      Graduate            No     Semiurban   \n",
       "\n",
       "     CoapplicantIncome_sqr  LoanAmount_sqr  Loan_Amount_Term_log  \\\n",
       "474              68.176242       12.727922              5.886104   \n",
       "236               0.000000       15.968719              5.886104   \n",
       "27               32.249031       10.488088              5.886104   \n",
       "8                 0.000000       15.968719              5.886104   \n",
       "94               48.301139       11.090537              5.886104   \n",
       "\n",
       "     ApplicantIncome_sqr  \n",
       "474            74.377416  \n",
       "236            75.802375  \n",
       "27             65.007692  \n",
       "8              97.352452  \n",
       "94             67.889616  "
      ]
     },
     "execution_count": 192,
     "metadata": {},
     "output_type": "execute_result"
    }
   ],
   "source": [
    "X_test.head()"
   ]
  },
  {
   "cell_type": "code",
   "execution_count": 193,
   "id": "771b2087",
   "metadata": {},
   "outputs": [],
   "source": [
    "from imblearn.over_sampling import RandomOverSampler # resampling of data"
   ]
  },
  {
   "cell_type": "code",
   "execution_count": 194,
   "id": "f02f4558",
   "metadata": {},
   "outputs": [
    {
     "name": "stderr",
     "output_type": "stream",
     "text": [
      "C:\\anaconnda\\New folder\\lib\\site-packages\\imblearn\\utils\\_validation.py:586: FutureWarning: Pass sampling_strategy=0.5 as keyword args. From version 0.9 passing these as positional arguments will result in an error\n",
      "  warnings.warn(\n"
     ]
    }
   ],
   "source": [
    "os = RandomOverSampler(0.5)"
   ]
  },
  {
   "cell_type": "code",
   "execution_count": 195,
   "id": "dc703789",
   "metadata": {},
   "outputs": [],
   "source": [
    "X_train_res, y_train_res = os.fit_resample(X_train,y_train)"
   ]
  },
  {
   "cell_type": "code",
   "execution_count": 196,
   "id": "9e566e21",
   "metadata": {},
   "outputs": [
    {
     "data": {
      "text/plain": [
       "((937, 10), (937,))"
      ]
     },
     "execution_count": 196,
     "metadata": {},
     "output_type": "execute_result"
    }
   ],
   "source": [
    "X_train_res.shape, y_train_res.shape"
   ]
  },
  {
   "cell_type": "code",
   "execution_count": 197,
   "id": "6b545aa2",
   "metadata": {},
   "outputs": [
    {
     "name": "stdout",
     "output_type": "stream",
     "text": [
      "original dataset shape Counter({'Y': 625, 'N': 159})\n",
      "resampled dataset shapeCounter({'Y': 625, 'N': 312})\n"
     ]
    }
   ],
   "source": [
    "# data have been resampled with ratio = 0.50\n",
    "from collections import Counter\n",
    "print(\"original dataset shape {}\". format(Counter(y_train)))\n",
    "print(\"resampled dataset shape{}\".format(Counter(y_train_res)))"
   ]
  },
  {
   "cell_type": "code",
   "execution_count": 198,
   "id": "09c9afdd",
   "metadata": {},
   "outputs": [],
   "source": [
    "#Data Preprocessing -- applying one hot encoding in categorical variables and label encoder in dependent variables for better results.\n",
    "from sklearn.preprocessing import OneHotEncoder\n",
    "from sklearn.preprocessing import LabelEncoder\n",
    "from sklearn.compose import ColumnTransformer"
   ]
  },
  {
   "cell_type": "code",
   "execution_count": 199,
   "id": "96745e05",
   "metadata": {},
   "outputs": [],
   "source": [
    "transformer = ColumnTransformer(transformers= [\n",
    "    ('tnf1', OneHotEncoder(drop = 'first', dtype = np.int32, sparse = False), ['Gender','Married', 'Dependents', 'Education',\n",
    "                                                             'Self_Employed', 'Property_Area'])\n",
    "       \n",
    "], remainder = 'passthrough')"
   ]
  },
  {
   "cell_type": "code",
   "execution_count": 200,
   "id": "f1c2f8ea",
   "metadata": {},
   "outputs": [
    {
     "data": {
      "text/plain": [
       "array([[ 1.        ,  0.        ,  0.        , ..., 10.95445115,\n",
       "         5.88610403, 54.58937626],\n",
       "       [ 1.        ,  0.        ,  0.        , ...,  7.07106781,\n",
       "         5.88610403, 57.04384279],\n",
       "       [ 1.        ,  0.        ,  0.        , ...,  8.94427191,\n",
       "         5.88610403, 60.        ],\n",
       "       ...,\n",
       "       [ 0.        ,  0.        ,  0.        , ..., 11.61895004,\n",
       "         5.88610403, 58.46366393],\n",
       "       [ 1.        ,  0.        ,  0.        , ..., 10.67707825,\n",
       "         5.88610403, 43.0464865 ],\n",
       "       [ 1.        ,  1.        ,  0.        , ..., 12.24744871,\n",
       "         5.88610403, 80.03749122]])"
      ]
     },
     "execution_count": 200,
     "metadata": {},
     "output_type": "execute_result"
    }
   ],
   "source": [
    "X_train_new=transformer.fit_transform(X_train_res)\n",
    "X_train_new"
   ]
  },
  {
   "cell_type": "code",
   "execution_count": 201,
   "id": "08bb8b0e",
   "metadata": {},
   "outputs": [
    {
     "data": {
      "text/plain": [
       "array([[ 1.        ,  0.        ,  0.        , ..., 12.72792206,\n",
       "         5.88610403, 74.37741593],\n",
       "       [ 1.        ,  1.        ,  0.        , ..., 15.96871942,\n",
       "         5.88610403, 75.80237463],\n",
       "       [ 1.        ,  1.        ,  0.        , ..., 10.48808848,\n",
       "         5.88610403, 65.00769185],\n",
       "       ...,\n",
       "       [ 1.        ,  0.        ,  0.        , ..., 11.48912529,\n",
       "         5.88610403, 58.23229345],\n",
       "       [ 1.        ,  1.        ,  0.        , ..., 13.56465997,\n",
       "         5.88610403, 54.72659317],\n",
       "       [ 1.        ,  0.        ,  0.        , ..., 10.53565375,\n",
       "         5.88610403, 54.10175598]])"
      ]
     },
     "execution_count": 201,
     "metadata": {},
     "output_type": "execute_result"
    }
   ],
   "source": [
    "X_test_new= transformer.transform(X_test)\n",
    "X_test_new"
   ]
  },
  {
   "cell_type": "code",
   "execution_count": 202,
   "id": "242243bb",
   "metadata": {},
   "outputs": [],
   "source": [
    "from sklearn.preprocessing import LabelEncoder\n",
    "le = LabelEncoder()"
   ]
  },
  {
   "cell_type": "code",
   "execution_count": 203,
   "id": "33bf4318",
   "metadata": {},
   "outputs": [],
   "source": [
    "y_train = le.fit_transform(y_train_res)"
   ]
  },
  {
   "cell_type": "code",
   "execution_count": 204,
   "id": "641ca4d3",
   "metadata": {},
   "outputs": [],
   "source": [
    "y_test = le.fit_transform(y_test)"
   ]
  },
  {
   "cell_type": "code",
   "execution_count": 205,
   "id": "71a0914c",
   "metadata": {},
   "outputs": [],
   "source": [
    "#feature scaling using standard scaler\n",
    "from sklearn.preprocessing import StandardScaler\n",
    "Sc =  StandardScaler()"
   ]
  },
  {
   "cell_type": "code",
   "execution_count": 206,
   "id": "1ab4d945",
   "metadata": {},
   "outputs": [],
   "source": [
    "X_train_scale = Sc.fit_transform(X_train_new)\n",
    "X_test_scale = Sc.transform(X_test_new)"
   ]
  },
  {
   "cell_type": "markdown",
   "id": "33c3f614",
   "metadata": {},
   "source": [
    "# MODEL BUILDING"
   ]
  },
  {
   "cell_type": "markdown",
   "id": "7076659b",
   "metadata": {},
   "source": [
    "# 1.LOGISTIC REGRESSION"
   ]
  },
  {
   "cell_type": "code",
   "execution_count": 207,
   "id": "b1b4575c",
   "metadata": {},
   "outputs": [],
   "source": [
    "from sklearn.metrics import accuracy_score\n",
    "from sklearn.metrics import classification_report\n",
    "from sklearn.metrics import confusion_matrix\n",
    "from sklearn.linear_model import LogisticRegression"
   ]
  },
  {
   "cell_type": "code",
   "execution_count": 378,
   "id": "2109c403",
   "metadata": {},
   "outputs": [],
   "source": [
    "Lr = LogisticRegression(solver= 'saga')"
   ]
  },
  {
   "cell_type": "code",
   "execution_count": 379,
   "id": "a23bc925",
   "metadata": {},
   "outputs": [
    {
     "data": {
      "text/plain": [
       "LogisticRegression(solver='saga')"
      ]
     },
     "execution_count": 379,
     "metadata": {},
     "output_type": "execute_result"
    }
   ],
   "source": [
    "Lr.fit(X_train_scale, y_train)"
   ]
  },
  {
   "cell_type": "code",
   "execution_count": 380,
   "id": "69858bb9",
   "metadata": {},
   "outputs": [],
   "source": [
    "y_pred_lr = Lr.predict(X_test_scale)"
   ]
  },
  {
   "cell_type": "code",
   "execution_count": 381,
   "id": "12f3c9f2",
   "metadata": {},
   "outputs": [
    {
     "name": "stdout",
     "output_type": "stream",
     "text": [
      "[[  1  32]\n",
      " [  2 162]]\n",
      "None\n",
      "Accuracy score 82.74111675126903\n",
      "              precision    recall  f1-score   support\n",
      "\n",
      "           0       0.33      0.03      0.06        33\n",
      "           1       0.84      0.99      0.91       164\n",
      "\n",
      "    accuracy                           0.83       197\n",
      "   macro avg       0.58      0.51      0.48       197\n",
      "weighted avg       0.75      0.83      0.76       197\n",
      "\n"
     ]
    }
   ],
   "source": [
    "print(print(confusion_matrix(y_test, y_pred_lr)))\n",
    "print('Accuracy score {}'.format(accuracy_score(y_test,y_pred_lr)*100))\n",
    "print(classification_report(y_test, y_pred_lr))"
   ]
  },
  {
   "cell_type": "markdown",
   "id": "551afc54",
   "metadata": {},
   "source": [
    "# 2.RANDOM FOREST CLASSIFIER"
   ]
  },
  {
   "cell_type": "code",
   "execution_count": 212,
   "id": "900f4480",
   "metadata": {},
   "outputs": [],
   "source": [
    "from sklearn.ensemble import RandomForestClassifier\n",
    "RF = RandomForestClassifier(n_estimators = 400, max_depth = 6,criterion = 'entropy')"
   ]
  },
  {
   "cell_type": "code",
   "execution_count": 213,
   "id": "762bc01e",
   "metadata": {},
   "outputs": [
    {
     "data": {
      "text/plain": [
       "RandomForestClassifier(criterion='entropy', max_depth=6, n_estimators=400)"
      ]
     },
     "execution_count": 213,
     "metadata": {},
     "output_type": "execute_result"
    }
   ],
   "source": [
    "RF.fit(X_train_scale, y_train)"
   ]
  },
  {
   "cell_type": "code",
   "execution_count": 215,
   "id": "33472f44",
   "metadata": {},
   "outputs": [
    {
     "name": "stdout",
     "output_type": "stream",
     "text": [
      "[[  0  33]\n",
      " [  2 162]]\n",
      "Accuracy score 82.23350253807106\n",
      "classification report               precision    recall  f1-score   support\n",
      "\n",
      "           0       0.00      0.00      0.00        33\n",
      "           1       0.83      0.99      0.90       164\n",
      "\n",
      "    accuracy                           0.82       197\n",
      "   macro avg       0.42      0.49      0.45       197\n",
      "weighted avg       0.69      0.82      0.75       197\n",
      "\n"
     ]
    }
   ],
   "source": [
    "y_pred_rf = RF.predict(X_test_scale)\n",
    "print(confusion_matrix(y_test, y_pred_rf))\n",
    "print('Accuracy score {}'.format(accuracy_score(y_test,y_pred_rf)*100))\n",
    "print('classification report {}'.format(classification_report(y_test, y_pred_rf)))"
   ]
  },
  {
   "cell_type": "markdown",
   "id": "8778c669",
   "metadata": {},
   "source": [
    "# 3.SUPPORT VECTOR CLASSIFIER (SVC)"
   ]
  },
  {
   "cell_type": "code",
   "execution_count": 216,
   "id": "6e9e2dcc",
   "metadata": {},
   "outputs": [],
   "source": [
    "from sklearn.svm import SVC"
   ]
  },
  {
   "cell_type": "code",
   "execution_count": 217,
   "id": "8c878ec4",
   "metadata": {},
   "outputs": [
    {
     "data": {
      "text/plain": [
       "SVC()"
      ]
     },
     "execution_count": 217,
     "metadata": {},
     "output_type": "execute_result"
    }
   ],
   "source": [
    "classifier = SVC(kernel='rbf')\n",
    "classifier.fit(X_train_scale,y_train)"
   ]
  },
  {
   "cell_type": "code",
   "execution_count": 218,
   "id": "fa3fbc77",
   "metadata": {},
   "outputs": [
    {
     "name": "stdout",
     "output_type": "stream",
     "text": [
      "[[  1  32]\n",
      " [  6 158]]\n",
      "Accuracy score 80.71065989847716\n",
      "classification report               precision    recall  f1-score   support\n",
      "\n",
      "           0       0.14      0.03      0.05        33\n",
      "           1       0.83      0.96      0.89       164\n",
      "\n",
      "    accuracy                           0.81       197\n",
      "   macro avg       0.49      0.50      0.47       197\n",
      "weighted avg       0.72      0.81      0.75       197\n",
      "\n"
     ]
    }
   ],
   "source": [
    "y_pred_svc = classifier.predict(X_test_scale)\n",
    "print(confusion_matrix(y_test, y_pred_svc))\n",
    "print('Accuracy score {}'.format(accuracy_score(y_test,y_pred_svc)*100))\n",
    "print('classification report {}'.format(classification_report(y_test, y_pred_svc)))"
   ]
  },
  {
   "cell_type": "code",
   "execution_count": 219,
   "id": "03ac7060",
   "metadata": {},
   "outputs": [
    {
     "name": "stdout",
     "output_type": "stream",
     "text": [
      "0.7086593456874858\n",
      "0.6648821779913063\n",
      "0.6947037291237704\n"
     ]
    }
   ],
   "source": [
    "from sklearn.model_selection import cross_val_score\n",
    "scores1 = print(cross_val_score(RF, X_train_scale, y_train, cv = 10).mean())\n",
    "scores2 = print(cross_val_score(Lr, X_train_scale, y_train, cv = 10).mean())\n",
    "scores2 = print(cross_val_score(classifier, X_train_scale, y_train, cv = 10).mean())"
   ]
  },
  {
   "cell_type": "markdown",
   "id": "88e3154b",
   "metadata": {},
   "source": [
    "# HYPER-PARAMETER TUNNING"
   ]
  },
  {
   "cell_type": "markdown",
   "id": "be3a24d0",
   "metadata": {},
   "source": [
    "# 4.RANDOMFOREST CLASSIFIER (using RandomizedSearchCV )"
   ]
  },
  {
   "cell_type": "code",
   "execution_count": 220,
   "id": "d1d7a96c",
   "metadata": {},
   "outputs": [],
   "source": [
    "from sklearn.model_selection import RandomizedSearchCV"
   ]
  },
  {
   "cell_type": "code",
   "execution_count": 221,
   "id": "25e277ef",
   "metadata": {},
   "outputs": [],
   "source": [
    "#Number of trees in random forest\n",
    "n_estimators = [int(x) for x in np.linspace(start = 100, stop = 1000, num=100)]\n",
    "\n",
    "#measuring the quality of a split\n",
    "criterion = ['gini', 'entropy']\n",
    "\n",
    "#maximum depth of the tree\n",
    "max_depth = [int(x) for x in np.linspace(10, 110, num = 11)]\n",
    "\n",
    "#minimum number of samples required to split a node\n",
    "min_samples_split= [0.25,0.5,1.0] \n",
    "\n",
    "#minimum number of samples required to be at a leaf node\n",
    "min_samples_leaf = [5,10,15,20,30] \n",
    "\n",
    "#number of features to consider\n",
    "max_features = ['sqrt','log2', None]\n",
    "\n",
    "#the number of samples to draw from X \n",
    "max_samples = [0.5,0.75,1.0,None] \n",
    "\n",
    "# controlling max leaf nodes\n",
    "max_leaf_nodes = [5,10,15,25,35,55,None]\n"
   ]
  },
  {
   "cell_type": "code",
   "execution_count": 222,
   "id": "1b59eafb",
   "metadata": {},
   "outputs": [
    {
     "name": "stdout",
     "output_type": "stream",
     "text": [
      "{'n_estimators': [100, 109, 118, 127, 136, 145, 154, 163, 172, 181, 190, 200, 209, 218, 227, 236, 245, 254, 263, 272, 281, 290, 300, 309, 318, 327, 336, 345, 354, 363, 372, 381, 390, 400, 409, 418, 427, 436, 445, 454, 463, 472, 481, 490, 500, 509, 518, 527, 536, 545, 554, 563, 572, 581, 590, 600, 609, 618, 627, 636, 645, 654, 663, 672, 681, 690, 700, 709, 718, 727, 736, 745, 754, 763, 772, 781, 790, 800, 809, 818, 827, 836, 845, 854, 863, 872, 881, 890, 900, 909, 918, 927, 936, 945, 954, 963, 972, 981, 990, 1000], 'criterion': ['gini', 'entropy'], 'max_depth': [10, 20, 30, 40, 50, 60, 70, 80, 90, 100, 110], 'min_samples_split': [0.25, 0.5, 1.0], 'min_samples_leaf': [5, 10, 15, 20, 30], 'max_features': ['sqrt', 'log2', None], 'max_samples': [0.5, 0.75, 1.0, None], 'max_leaf_nodes': [5, 10, 15, 25, 35, 55, None]}\n"
     ]
    }
   ],
   "source": [
    "#creating random grid\n",
    "random_grid = {'n_estimators': n_estimators,\n",
    "              'criterion': criterion, \n",
    "              'max_depth': max_depth,\n",
    "              'min_samples_split': min_samples_split,\n",
    "               'min_samples_leaf' : min_samples_leaf,\n",
    "              'max_features': max_features,\n",
    "              'max_samples': max_samples,\n",
    "               'max_leaf_nodes' : max_leaf_nodes,\n",
    "              }\n",
    "print(random_grid)"
   ]
  },
  {
   "cell_type": "code",
   "execution_count": 223,
   "id": "7d390907",
   "metadata": {},
   "outputs": [],
   "source": [
    "rf = RandomForestClassifier()"
   ]
  },
  {
   "cell_type": "code",
   "execution_count": 224,
   "id": "3c7badfd",
   "metadata": {},
   "outputs": [],
   "source": [
    "rf_random = RandomizedSearchCV(estimator = rf, param_distributions = random_grid, n_iter = 100, cv= 3, verbose =2, random_state = 50,\n",
    "                              n_jobs= -1, error_score='raise')"
   ]
  },
  {
   "cell_type": "code",
   "execution_count": 225,
   "id": "33bcea0b",
   "metadata": {},
   "outputs": [
    {
     "name": "stdout",
     "output_type": "stream",
     "text": [
      "Fitting 3 folds for each of 100 candidates, totalling 300 fits\n"
     ]
    },
    {
     "data": {
      "text/plain": [
       "RandomizedSearchCV(cv=3, error_score='raise',\n",
       "                   estimator=RandomForestClassifier(), n_iter=100, n_jobs=-1,\n",
       "                   param_distributions={'criterion': ['gini', 'entropy'],\n",
       "                                        'max_depth': [10, 20, 30, 40, 50, 60,\n",
       "                                                      70, 80, 90, 100, 110],\n",
       "                                        'max_features': ['sqrt', 'log2', None],\n",
       "                                        'max_leaf_nodes': [5, 10, 15, 25, 35,\n",
       "                                                           55, None],\n",
       "                                        'max_samples': [0.5, 0.75, 1.0, None],\n",
       "                                        'min_samples_leaf': [5, 10, 15, 20, 30],\n",
       "                                        'min_samples_split': [0.25, 0.5, 1.0],\n",
       "                                        'n_estimators': [100, 109, 118, 127,\n",
       "                                                         136, 145, 154, 163,\n",
       "                                                         172, 181, 190, 200,\n",
       "                                                         209, 218, 227, 236,\n",
       "                                                         245, 254, 263, 272,\n",
       "                                                         281, 290, 300, 309,\n",
       "                                                         318, 327, 336, 345,\n",
       "                                                         354, 363, ...]},\n",
       "                   random_state=50, verbose=2)"
      ]
     },
     "execution_count": 225,
     "metadata": {},
     "output_type": "execute_result"
    }
   ],
   "source": [
    "rf_random.fit(X_train_scale, y_train)"
   ]
  },
  {
   "cell_type": "code",
   "execution_count": 226,
   "id": "5aff27f7",
   "metadata": {},
   "outputs": [
    {
     "data": {
      "text/plain": [
       "{'n_estimators': 827,\n",
       " 'min_samples_split': 0.25,\n",
       " 'min_samples_leaf': 5,\n",
       " 'max_samples': 0.5,\n",
       " 'max_leaf_nodes': 10,\n",
       " 'max_features': None,\n",
       " 'max_depth': 50,\n",
       " 'criterion': 'entropy'}"
      ]
     },
     "execution_count": 226,
     "metadata": {},
     "output_type": "execute_result"
    }
   ],
   "source": [
    "best_random_grid=rf_random.best_params_\n",
    "best_random_grid"
   ]
  },
  {
   "cell_type": "code",
   "execution_count": 227,
   "id": "f78ac91c",
   "metadata": {},
   "outputs": [
    {
     "data": {
      "text/plain": [
       "0.669154993036782"
      ]
     },
     "execution_count": 227,
     "metadata": {},
     "output_type": "execute_result"
    }
   ],
   "source": [
    "rf_random.best_score_"
   ]
  },
  {
   "cell_type": "code",
   "execution_count": 228,
   "id": "6a8323eb",
   "metadata": {},
   "outputs": [
    {
     "name": "stdout",
     "output_type": "stream",
     "text": [
      "[[  0  33]\n",
      " [  0 164]]\n",
      "Accuracy score 83.24873096446701\n",
      "classification report               precision    recall  f1-score   support\n",
      "\n",
      "           0       0.00      0.00      0.00        33\n",
      "           1       0.83      1.00      0.91       164\n",
      "\n",
      "    accuracy                           0.83       197\n",
      "   macro avg       0.42      0.50      0.45       197\n",
      "weighted avg       0.69      0.83      0.76       197\n",
      "\n"
     ]
    },
    {
     "name": "stderr",
     "output_type": "stream",
     "text": [
      "C:\\anaconnda\\New folder\\lib\\site-packages\\sklearn\\metrics\\_classification.py:1318: UndefinedMetricWarning: Precision and F-score are ill-defined and being set to 0.0 in labels with no predicted samples. Use `zero_division` parameter to control this behavior.\n",
      "  _warn_prf(average, modifier, msg_start, len(result))\n",
      "C:\\anaconnda\\New folder\\lib\\site-packages\\sklearn\\metrics\\_classification.py:1318: UndefinedMetricWarning: Precision and F-score are ill-defined and being set to 0.0 in labels with no predicted samples. Use `zero_division` parameter to control this behavior.\n",
      "  _warn_prf(average, modifier, msg_start, len(result))\n",
      "C:\\anaconnda\\New folder\\lib\\site-packages\\sklearn\\metrics\\_classification.py:1318: UndefinedMetricWarning: Precision and F-score are ill-defined and being set to 0.0 in labels with no predicted samples. Use `zero_division` parameter to control this behavior.\n",
      "  _warn_prf(average, modifier, msg_start, len(result))\n"
     ]
    }
   ],
   "source": [
    "from sklearn.metrics import accuracy_score\n",
    "from sklearn.metrics import classification_report\n",
    "from sklearn.metrics import confusion_matrix\n",
    "y_pred_random = rf_random.predict(X_test_scale)\n",
    "print(confusion_matrix(y_test, y_pred_random))\n",
    "print('Accuracy score {}'.format(accuracy_score(y_test,y_pred_random)*100))\n",
    "print('classification report {}'.format(classification_report(y_test, y_pred_random)))"
   ]
  },
  {
   "cell_type": "markdown",
   "id": "494cff8c",
   "metadata": {},
   "source": [
    "# 4.RANDOMFOREST CLASSIFIER (using  GRIDSEARCHCV)"
   ]
  },
  {
   "cell_type": "code",
   "execution_count": 229,
   "id": "9c4569e5",
   "metadata": {},
   "outputs": [],
   "source": [
    "from sklearn.model_selection import GridSearchCV"
   ]
  },
  {
   "cell_type": "code",
   "execution_count": 230,
   "id": "eb440443",
   "metadata": {},
   "outputs": [
    {
     "name": "stdout",
     "output_type": "stream",
     "text": [
      "{'criterion': ['entropy'], 'max_depth': [50], 'min_samples_split': [0.25], 'min_samples_leaf': [1, 2, 5, 7, 10], 'max_leaf_nodes': [15, 25, 35, None], 'max_features': [None], 'max_samples': [0.5], 'n_estimators': [827, 727, 1127, 1027], 'bootstrap': ['True', 'False']}\n"
     ]
    }
   ],
   "source": [
    "param_grid = { 'criterion' : [rf_random.best_params_['criterion']],\n",
    "              'max_depth' : [rf_random.best_params_['max_depth']],\n",
    "              'min_samples_split' : [rf_random.best_params_['min_samples_split']],\n",
    "            'min_samples_leaf' : [1,2,5,7,10],\n",
    "              'max_leaf_nodes' : [15,25,35,None],\n",
    "              'max_features' : [rf_random.best_params_['max_features']],\n",
    "              'max_samples' : [rf_random.best_params_['max_samples']],\n",
    "              'n_estimators' : [rf_random.best_params_['n_estimators'],rf_random.best_params_['n_estimators']-100,\n",
    "                               rf_random.best_params_['n_estimators']+300,rf_random.best_params_['n_estimators']+200],\n",
    "              'bootstrap' : ['True', 'False']\n",
    "              \n",
    "               }\n",
    "print(param_grid)"
   ]
  },
  {
   "cell_type": "code",
   "execution_count": 231,
   "id": "67d34fe6",
   "metadata": {},
   "outputs": [
    {
     "name": "stdout",
     "output_type": "stream",
     "text": [
      "Fitting 3 folds for each of 160 candidates, totalling 480 fits\n"
     ]
    },
    {
     "data": {
      "text/plain": [
       "GridSearchCV(cv=3, estimator=RandomForestClassifier(), n_jobs=-1,\n",
       "             param_grid={'bootstrap': ['True', 'False'],\n",
       "                         'criterion': ['entropy'], 'max_depth': [50],\n",
       "                         'max_features': [None],\n",
       "                         'max_leaf_nodes': [15, 25, 35, None],\n",
       "                         'max_samples': [0.5],\n",
       "                         'min_samples_leaf': [1, 2, 5, 7, 10],\n",
       "                         'min_samples_split': [0.25],\n",
       "                         'n_estimators': [827, 727, 1127, 1027]},\n",
       "             verbose=2)"
      ]
     },
     "execution_count": 231,
     "metadata": {},
     "output_type": "execute_result"
    }
   ],
   "source": [
    "rf = RandomForestClassifier()\n",
    "grid_search = GridSearchCV(estimator = rf, param_grid = param_grid, cv= 3, n_jobs= -1,verbose=2)\n",
    "grid_search.fit(X_train_scale,y_train)"
   ]
  },
  {
   "cell_type": "code",
   "execution_count": 232,
   "id": "36033b10",
   "metadata": {},
   "outputs": [
    {
     "data": {
      "text/plain": [
       "{'bootstrap': 'True',\n",
       " 'criterion': 'entropy',\n",
       " 'max_depth': 50,\n",
       " 'max_features': None,\n",
       " 'max_leaf_nodes': 25,\n",
       " 'max_samples': 0.5,\n",
       " 'min_samples_leaf': 1,\n",
       " 'min_samples_split': 0.25,\n",
       " 'n_estimators': 727}"
      ]
     },
     "execution_count": 232,
     "metadata": {},
     "output_type": "execute_result"
    }
   ],
   "source": [
    "best_grid = grid_search.best_params_\n",
    "best_grid"
   ]
  },
  {
   "cell_type": "code",
   "execution_count": 233,
   "id": "e427789e",
   "metadata": {},
   "outputs": [
    {
     "data": {
      "text/plain": [
       "0.6702233691051583"
      ]
     },
     "execution_count": 233,
     "metadata": {},
     "output_type": "execute_result"
    }
   ],
   "source": [
    "grid_search.best_score_"
   ]
  },
  {
   "cell_type": "code",
   "execution_count": 234,
   "id": "37d9f7de",
   "metadata": {},
   "outputs": [
    {
     "name": "stdout",
     "output_type": "stream",
     "text": [
      "[[  0  33]\n",
      " [  0 164]]\n",
      "Accuracy score 83.24873096446701\n",
      "classification report               precision    recall  f1-score   support\n",
      "\n",
      "           0       0.00      0.00      0.00        33\n",
      "           1       0.83      1.00      0.91       164\n",
      "\n",
      "    accuracy                           0.83       197\n",
      "   macro avg       0.42      0.50      0.45       197\n",
      "weighted avg       0.69      0.83      0.76       197\n",
      "\n"
     ]
    },
    {
     "name": "stderr",
     "output_type": "stream",
     "text": [
      "C:\\anaconnda\\New folder\\lib\\site-packages\\sklearn\\metrics\\_classification.py:1318: UndefinedMetricWarning: Precision and F-score are ill-defined and being set to 0.0 in labels with no predicted samples. Use `zero_division` parameter to control this behavior.\n",
      "  _warn_prf(average, modifier, msg_start, len(result))\n",
      "C:\\anaconnda\\New folder\\lib\\site-packages\\sklearn\\metrics\\_classification.py:1318: UndefinedMetricWarning: Precision and F-score are ill-defined and being set to 0.0 in labels with no predicted samples. Use `zero_division` parameter to control this behavior.\n",
      "  _warn_prf(average, modifier, msg_start, len(result))\n",
      "C:\\anaconnda\\New folder\\lib\\site-packages\\sklearn\\metrics\\_classification.py:1318: UndefinedMetricWarning: Precision and F-score are ill-defined and being set to 0.0 in labels with no predicted samples. Use `zero_division` parameter to control this behavior.\n",
      "  _warn_prf(average, modifier, msg_start, len(result))\n"
     ]
    }
   ],
   "source": [
    "y_pred_grid = grid_search.predict(X_test_scale)\n",
    "print(confusion_matrix(y_test, y_pred_grid))\n",
    "print('Accuracy score {}'.format(accuracy_score(y_test,y_pred_grid)*100))\n",
    "print('classification report {}'.format(classification_report(y_test, y_pred_grid)))"
   ]
  },
  {
   "cell_type": "markdown",
   "id": "34e96e00",
   "metadata": {},
   "source": [
    "# 5.DecisionTree"
   ]
  },
  {
   "cell_type": "code",
   "execution_count": 411,
   "id": "ac108320",
   "metadata": {},
   "outputs": [],
   "source": [
    "from sklearn.tree import DecisionTreeClassifier\n",
    "DT = DecisionTreeClassifier(criterion = \"entropy\", max_depth=8)\n",
    "decision_tree = DT.fit(X_train_scale, y_train)"
   ]
  },
  {
   "cell_type": "code",
   "execution_count": 412,
   "id": "74efc1bc",
   "metadata": {},
   "outputs": [],
   "source": [
    "decision_tree_pred = decision_tree.predict(X_test_scale)"
   ]
  },
  {
   "cell_type": "code",
   "execution_count": 413,
   "id": "647ab519",
   "metadata": {},
   "outputs": [
    {
     "name": "stdout",
     "output_type": "stream",
     "text": [
      "[[  7  26]\n",
      " [ 18 146]]\n",
      "Accuracy score 77.66497461928934\n",
      "classification report               precision    recall  f1-score   support\n",
      "\n",
      "           0       0.28      0.21      0.24        33\n",
      "           1       0.85      0.89      0.87       164\n",
      "\n",
      "    accuracy                           0.78       197\n",
      "   macro avg       0.56      0.55      0.56       197\n",
      "weighted avg       0.75      0.78      0.76       197\n",
      "\n"
     ]
    }
   ],
   "source": [
    "print(confusion_matrix(y_test, decision_tree_pred))\n",
    "print('Accuracy score {}'.format(accuracy_score(y_test,decision_tree_pred)*100))\n",
    "print('classification report {}'.format(classification_report(y_test,decision_tree_pred)))"
   ]
  },
  {
   "cell_type": "markdown",
   "id": "581735e3",
   "metadata": {},
   "source": [
    "# 6.DECISIONTREE (using GRID SEARCH)"
   ]
  },
  {
   "cell_type": "code",
   "execution_count": 406,
   "id": "56c35ca4",
   "metadata": {},
   "outputs": [
    {
     "name": "stdout",
     "output_type": "stream",
     "text": [
      "{'criterion': ['gini', 'entropy'], 'splitter': ['best', 'random'], 'max_depth': [5, 7, 10, 12, 15, 20], 'min_samples_split': [0.25, 0.5, 1.0], 'min_samples_leaf': [5, 10, 15, 25, 30, 35, 50], 'max_features': ['auto', 'sqrt', 'log2', None]}\n"
     ]
    }
   ],
   "source": [
    "param_grid =  { 'criterion' : [\"gini\", \"entropy\"], \n",
    "                'splitter' : [\"best\", \"random\"],\n",
    "               'max_depth' : [5,7,10,12,15,20],\n",
    "               'min_samples_split' : [0.25,0.5,1.0], \n",
    "               'min_samples_leaf' : [5,10,15,25,30,35,50],\n",
    "             'max_features' : ['auto','sqrt','log2',None]\n",
    "               \n",
    "              }\n",
    "print(param_grid)"
   ]
  },
  {
   "cell_type": "code",
   "execution_count": 407,
   "id": "5ef632ce",
   "metadata": {},
   "outputs": [
    {
     "name": "stdout",
     "output_type": "stream",
     "text": [
      "Fitting 3 folds for each of 2016 candidates, totalling 6048 fits\n"
     ]
    },
    {
     "data": {
      "text/plain": [
       "GridSearchCV(cv=3, estimator=DecisionTreeClassifier(), n_jobs=-1,\n",
       "             param_grid={'criterion': ['gini', 'entropy'],\n",
       "                         'max_depth': [5, 7, 10, 12, 15, 20],\n",
       "                         'max_features': ['auto', 'sqrt', 'log2', None],\n",
       "                         'min_samples_leaf': [5, 10, 15, 25, 30, 35, 50],\n",
       "                         'min_samples_split': [0.25, 0.5, 1.0],\n",
       "                         'splitter': ['best', 'random']},\n",
       "             verbose=2)"
      ]
     },
     "execution_count": 407,
     "metadata": {},
     "output_type": "execute_result"
    }
   ],
   "source": [
    "DT =  DecisionTreeClassifier()\n",
    "grid_search = GridSearchCV(estimator = DT, param_grid = param_grid, cv= 3 , n_jobs= -1,verbose=2)\n",
    "grid_search.fit(X_train_scale,y_train)"
   ]
  },
  {
   "cell_type": "code",
   "execution_count": 408,
   "id": "c125b190",
   "metadata": {},
   "outputs": [
    {
     "data": {
      "text/plain": [
       "{'criterion': 'gini',\n",
       " 'max_depth': 20,\n",
       " 'max_features': 'sqrt',\n",
       " 'min_samples_leaf': 5,\n",
       " 'min_samples_split': 0.25,\n",
       " 'splitter': 'best'}"
      ]
     },
     "execution_count": 408,
     "metadata": {},
     "output_type": "execute_result"
    }
   ],
   "source": [
    "best_grid = grid_search.best_params_\n",
    "best_grid"
   ]
  },
  {
   "cell_type": "code",
   "execution_count": 409,
   "id": "adba520f",
   "metadata": {},
   "outputs": [
    {
     "data": {
      "text/plain": [
       "0.6830472952677425"
      ]
     },
     "execution_count": 409,
     "metadata": {},
     "output_type": "execute_result"
    }
   ],
   "source": [
    "grid_search.best_score_"
   ]
  },
  {
   "cell_type": "code",
   "execution_count": 410,
   "id": "accebe8b",
   "metadata": {},
   "outputs": [
    {
     "name": "stdout",
     "output_type": "stream",
     "text": [
      "[[  4  29]\n",
      " [ 12 152]]\n",
      "Accuracy score 79.18781725888326\n",
      "classification report               precision    recall  f1-score   support\n",
      "\n",
      "           0       0.25      0.12      0.16        33\n",
      "           1       0.84      0.93      0.88       164\n",
      "\n",
      "    accuracy                           0.79       197\n",
      "   macro avg       0.54      0.52      0.52       197\n",
      "weighted avg       0.74      0.79      0.76       197\n",
      "\n"
     ]
    }
   ],
   "source": [
    "y_pred_dt = grid_search.predict(X_test_scale)\n",
    "print(confusion_matrix(y_test, y_pred_dt))\n",
    "print('Accuracy score {}'.format(accuracy_score(y_test,y_pred_dt)*100))\n",
    "print('classification report {}'.format(classification_report(y_test, y_pred_dt)))"
   ]
  },
  {
   "cell_type": "markdown",
   "id": "88f54499",
   "metadata": {},
   "source": [
    "# 7.SVM TUNNING"
   ]
  },
  {
   "cell_type": "code",
   "execution_count": 289,
   "id": "c7112897",
   "metadata": {},
   "outputs": [
    {
     "name": "stdout",
     "output_type": "stream",
     "text": [
      "{'kernel': ['linear', 'rbf', 'poly'], 'C': [0.001, 0.01, 0.1, 1, 10], 'tol': [0.001, 0.01, 0.1], 'max_iter': [100, 1000, 2500, 5000]}\n"
     ]
    }
   ],
   "source": [
    "param_grid = { 'kernel' : ['linear', 'rbf', 'poly'],\n",
    "               'C' : [0.001,0.01,0.1,1,10],\n",
    "               'tol' : [0.001,0.01, 0.1],\n",
    "              'max_iter' : [100,1000,2500,5000]\n",
    "              \n",
    "             \n",
    "             \n",
    "             \n",
    "            }\n",
    "print(param_grid)"
   ]
  },
  {
   "cell_type": "code",
   "execution_count": 290,
   "id": "cbdfa589",
   "metadata": {},
   "outputs": [],
   "source": [
    "svm_grid = SVC()"
   ]
  },
  {
   "cell_type": "code",
   "execution_count": 291,
   "id": "3c520ea5",
   "metadata": {},
   "outputs": [],
   "source": [
    "svm_gridsearch= GridSearchCV(estimator = svm_grid, param_grid = param_grid, cv= 3 , n_jobs= -1,verbose=2)"
   ]
  },
  {
   "cell_type": "code",
   "execution_count": 292,
   "id": "17579a53",
   "metadata": {},
   "outputs": [
    {
     "name": "stdout",
     "output_type": "stream",
     "text": [
      "Fitting 3 folds for each of 180 candidates, totalling 540 fits\n"
     ]
    },
    {
     "name": "stderr",
     "output_type": "stream",
     "text": [
      "C:\\anaconnda\\New folder\\lib\\site-packages\\sklearn\\svm\\_base.py:284: ConvergenceWarning: Solver terminated early (max_iter=1000).  Consider pre-processing your data with StandardScaler or MinMaxScaler.\n",
      "  warnings.warn(\n"
     ]
    },
    {
     "data": {
      "text/plain": [
       "GridSearchCV(cv=3, estimator=SVC(), n_jobs=-1,\n",
       "             param_grid={'C': [0.001, 0.01, 0.1, 1, 10],\n",
       "                         'kernel': ['linear', 'rbf', 'poly'],\n",
       "                         'max_iter': [100, 1000, 2500, 5000],\n",
       "                         'tol': [0.001, 0.01, 0.1]},\n",
       "             verbose=2)"
      ]
     },
     "execution_count": 292,
     "metadata": {},
     "output_type": "execute_result"
    }
   ],
   "source": [
    "svm_gridsearch.fit(X_train_scale,y_train)"
   ]
  },
  {
   "cell_type": "code",
   "execution_count": 293,
   "id": "25beabb7",
   "metadata": {},
   "outputs": [
    {
     "data": {
      "text/plain": [
       "{'C': 10, 'kernel': 'rbf', 'max_iter': 1000, 'tol': 0.001}"
      ]
     },
     "execution_count": 293,
     "metadata": {},
     "output_type": "execute_result"
    }
   ],
   "source": [
    "best_grid1 = svm_gridsearch.best_params_\n",
    "best_grid1"
   ]
  },
  {
   "cell_type": "code",
   "execution_count": 294,
   "id": "17258c94",
   "metadata": {},
   "outputs": [
    {
     "data": {
      "text/plain": [
       "0.7310730182135933"
      ]
     },
     "execution_count": 294,
     "metadata": {},
     "output_type": "execute_result"
    }
   ],
   "source": [
    "svm_gridsearch.best_score_"
   ]
  },
  {
   "cell_type": "code",
   "execution_count": 295,
   "id": "e50dd31e",
   "metadata": {},
   "outputs": [
    {
     "name": "stdout",
     "output_type": "stream",
     "text": [
      "[[  2  31]\n",
      " [ 20 144]]\n",
      "Accuracy score 74.11167512690355\n",
      "classification report               precision    recall  f1-score   support\n",
      "\n",
      "           0       0.09      0.06      0.07        33\n",
      "           1       0.82      0.88      0.85       164\n",
      "\n",
      "    accuracy                           0.74       197\n",
      "   macro avg       0.46      0.47      0.46       197\n",
      "weighted avg       0.70      0.74      0.72       197\n",
      "\n"
     ]
    }
   ],
   "source": [
    "y_predsvc= svm_gridsearch.predict(X_test_scale)\n",
    "print(confusion_matrix(y_test, y_predsvc))\n",
    "print('Accuracy score {}'.format(accuracy_score(y_test,y_predsvc)*100))\n",
    "print('classification report {}'.format(classification_report(y_test, y_predsvc)))"
   ]
  },
  {
   "cell_type": "markdown",
   "id": "8530bf16",
   "metadata": {},
   "source": [
    "# 8.Logistic Regression GridSearchCv"
   ]
  },
  {
   "cell_type": "code",
   "execution_count": 396,
   "id": "3803ecee",
   "metadata": {},
   "outputs": [
    {
     "name": "stdout",
     "output_type": "stream",
     "text": [
      "{'penalty': ['l2', 'none'], 'C': [0.1, 0.01, 0.001], 'solver': ['sag'], 'max_iter': [100, 1000, 2500, 5000], 'multi_class': ['auto', 'ovr', 'multinomial'], 'fit_intercept': [True], 'tol': [0.1, 0.01, 0.001]}\n"
     ]
    }
   ],
   "source": [
    "param_grid = { 'penalty' : ['l2', 'none'],\n",
    "               'C' : [0.1,0.01,0.001],\n",
    "             'solver' : ['sag'],\n",
    "              'max_iter' : [100,1000,2500,5000],\n",
    "              'multi_class' : ['auto', 'ovr', 'multinomial'],\n",
    "              'fit_intercept' : [True],\n",
    "              'tol' : [0.1,0.01,0.001]\n",
    "              \n",
    "             }\n",
    "print(param_grid)"
   ]
  },
  {
   "cell_type": "code",
   "execution_count": 397,
   "id": "0dcc8c54",
   "metadata": {},
   "outputs": [],
   "source": [
    "Lr = LogisticRegression()"
   ]
  },
  {
   "cell_type": "code",
   "execution_count": 398,
   "id": "61b8fcac",
   "metadata": {},
   "outputs": [],
   "source": [
    "log_grid = GridSearchCV(estimator = Lr , param_grid = param_grid, cv= 3 , n_jobs= -1,verbose=2)"
   ]
  },
  {
   "cell_type": "code",
   "execution_count": 399,
   "id": "ef57d08d",
   "metadata": {},
   "outputs": [
    {
     "name": "stdout",
     "output_type": "stream",
     "text": [
      "Fitting 3 folds for each of 216 candidates, totalling 648 fits\n"
     ]
    },
    {
     "data": {
      "text/plain": [
       "GridSearchCV(cv=3, estimator=LogisticRegression(), n_jobs=-1,\n",
       "             param_grid={'C': [0.1, 0.01, 0.001], 'fit_intercept': [True],\n",
       "                         'max_iter': [100, 1000, 2500, 5000],\n",
       "                         'multi_class': ['auto', 'ovr', 'multinomial'],\n",
       "                         'penalty': ['l2', 'none'], 'solver': ['sag'],\n",
       "                         'tol': [0.1, 0.01, 0.001]},\n",
       "             verbose=2)"
      ]
     },
     "execution_count": 399,
     "metadata": {},
     "output_type": "execute_result"
    }
   ],
   "source": [
    "log_grid.fit(X_train_scale, y_train)"
   ]
  },
  {
   "cell_type": "code",
   "execution_count": 400,
   "id": "15daaecf",
   "metadata": {},
   "outputs": [
    {
     "data": {
      "text/plain": [
       "{'C': 0.1,\n",
       " 'fit_intercept': True,\n",
       " 'max_iter': 5000,\n",
       " 'multi_class': 'multinomial',\n",
       " 'penalty': 'l2',\n",
       " 'solver': 'sag',\n",
       " 'tol': 0.1}"
      ]
     },
     "execution_count": 400,
     "metadata": {},
     "output_type": "execute_result"
    }
   ],
   "source": [
    "best_logi_grid = log_grid.best_params_\n",
    "best_logi_grid"
   ]
  },
  {
   "cell_type": "code",
   "execution_count": 401,
   "id": "1a62e0a1",
   "metadata": {},
   "outputs": [
    {
     "data": {
      "text/plain": [
       "0.6787669643100953"
      ]
     },
     "execution_count": 401,
     "metadata": {},
     "output_type": "execute_result"
    }
   ],
   "source": [
    "log_grid.best_score_"
   ]
  },
  {
   "cell_type": "code",
   "execution_count": 402,
   "id": "394b779d",
   "metadata": {},
   "outputs": [
    {
     "name": "stdout",
     "output_type": "stream",
     "text": [
      "[[  1  32]\n",
      " [  1 163]]\n",
      "Accuracy score 83.24873096446701\n",
      "classification report               precision    recall  f1-score   support\n",
      "\n",
      "           0       0.50      0.03      0.06        33\n",
      "           1       0.84      0.99      0.91       164\n",
      "\n",
      "    accuracy                           0.83       197\n",
      "   macro avg       0.67      0.51      0.48       197\n",
      "weighted avg       0.78      0.83      0.77       197\n",
      "\n"
     ]
    }
   ],
   "source": [
    "y_pred_logi = log_grid.predict(X_test_scale)\n",
    "print(confusion_matrix(y_test, y_pred_logi))\n",
    "print('Accuracy score {}'.format(accuracy_score(y_test,y_pred_logi)*100))\n",
    "print('classification report {}'.format(classification_report(y_test,y_pred_logi)))"
   ]
  },
  {
   "cell_type": "markdown",
   "id": "7c9f33dc",
   "metadata": {},
   "source": [
    "# Conclusion and Interpretation"
   ]
  },
  {
   "cell_type": "markdown",
   "id": "e13242b0",
   "metadata": {},
   "source": [
    "It can be noticed that our results are comparable and in certain cases the accuracy score has improved.\n",
    "Our RandomForestClassifier (GridSearchCV) and Logistic Regression using GridSearchCV was one of the best performing \n",
    "model with accuracy score of 83.24%. In general, it can be seen that all models can achieve up to 70% accuracy.\n",
    " "
   ]
  }
 ],
 "metadata": {
  "kernelspec": {
   "display_name": "Python 3",
   "language": "python",
   "name": "python3"
  },
  "language_info": {
   "codemirror_mode": {
    "name": "ipython",
    "version": 3
   },
   "file_extension": ".py",
   "mimetype": "text/x-python",
   "name": "python",
   "nbconvert_exporter": "python",
   "pygments_lexer": "ipython3",
   "version": "3.8.8"
  }
 },
 "nbformat": 4,
 "nbformat_minor": 5
}
